{
 "cells": [
  {
   "cell_type": "code",
   "execution_count": 1,
   "id": "8858ecc7-72ea-4a6f-be83-a8bbaab16a3f",
   "metadata": {},
   "outputs": [],
   "source": [
    "#Find the optimal path to mimimize travelling time\n",
    "#min(theta) J = L1/V1 + L2/V2\n",
    "#such that:\n",
    "#         L1 = 2Rcos(theta)\n",
    "#         L2 = 2*theta*R"
   ]
  },
  {
   "cell_type": "code",
   "execution_count": 2,
   "id": "7d1fcee3-0a25-4e80-a4b4-9bd64dad1042",
   "metadata": {},
   "outputs": [],
   "source": [
    "from pyomo.environ import *\n",
    "import numpy as np\n",
    "#max f1 = 2r*cos(theta)/V1 + 2r*theta/V2 <br>\n",
    "#0<theta<pi/2\n",
    "#Find the min time to travel from A to B"
   ]
  },
  {
   "cell_type": "code",
   "execution_count": 4,
   "id": "17a1519f-5034-478a-abc9-67312ac852cb",
   "metadata": {},
   "outputs": [],
   "source": [
    "model = ConcreteModel()\n",
    "model.r = Param(initialize=10)\n",
    "model.V1 = Param(initialize=4)\n",
    "model.V2 = Param(initialize=3)\n",
    "model.theta = Var(bounds=(0,np.pi/2), initialize=np.pi/3)\n",
    "model.J = Objective(expr=2*model.r*cos(model.theta)/model.V1 + 2*model.theta*model.r/model.V2, sense=minimize)"
   ]
  },
  {
   "cell_type": "code",
   "execution_count": 5,
   "id": "fd556255-088e-4c5b-8c32-50b6fb60f5d7",
   "metadata": {},
   "outputs": [],
   "source": [
    "solver=SolverFactory('ipopt')\n",
    "results=solver.solve(model);"
   ]
  },
  {
   "cell_type": "code",
   "execution_count": 6,
   "id": "c7eed896-d380-4a79-a9fd-d4fc15bacbcd",
   "metadata": {},
   "outputs": [
    {
     "name": "stdout",
     "output_type": "stream",
     "text": [
      "theta=  0.0\n",
      "J=  5.0\n"
     ]
    }
   ],
   "source": [
    "print('theta= ', round(value(model.theta)*180/np.pi,2))\n",
    "print('J= ', round(value(model.J),2))"
   ]
  },
  {
   "cell_type": "code",
   "execution_count": null,
   "id": "8fe35504-6102-4bbd-93a6-a72e6001d968",
   "metadata": {},
   "outputs": [],
   "source": []
  }
 ],
 "metadata": {
  "kernelspec": {
   "display_name": "Python 3 (ipykernel)",
   "language": "python",
   "name": "python3"
  },
  "language_info": {
   "codemirror_mode": {
    "name": "ipython",
    "version": 3
   },
   "file_extension": ".py",
   "mimetype": "text/x-python",
   "name": "python",
   "nbconvert_exporter": "python",
   "pygments_lexer": "ipython3",
   "version": "3.9.7"
  }
 },
 "nbformat": 4,
 "nbformat_minor": 5
}
