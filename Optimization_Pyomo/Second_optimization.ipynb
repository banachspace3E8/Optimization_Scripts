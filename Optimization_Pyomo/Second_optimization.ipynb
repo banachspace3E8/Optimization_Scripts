{
 "cells": [
  {
   "cell_type": "code",
   "execution_count": 1,
   "id": "85f1504f-d9cb-4896-acbf-62d84322d134",
   "metadata": {},
   "outputs": [],
   "source": [
    "#Abstract Model solution example\n",
    "from pyomo.environ import *\n",
    "import matplotlib.pyplot as plt\n",
    "import numpy as np\n",
    "import random"
   ]
  },
  {
   "cell_type": "code",
   "execution_count": 2,
   "id": "cd599e15-d7c6-47e1-a27a-c9df92d5f954",
   "metadata": {},
   "outputs": [],
   "source": [
    "#Max J = 3x1 + x2\n",
    "#Subject to:\n",
    "#           a11*x1 + 3x2 <= 4\n",
    "#           9x1 + 1x2 <= 6\n",
    "#           x1, x2 >= 0\n",
    "model = AbstractModel()\n",
    "#bounds=(lowerbound, upperbound)\n",
    "model.x1 = Var(bounds=(0,4), within=NonNegativeReals )\n",
    "model.x2 = Var(bounds=(0,4), within=NonNegativeReals )\n",
    "#declare the abstract parameter\n",
    "model.a11 = Param(mutable=True)\n",
    "model.eq1 = Constraint(expr=model.a11*model.x1+3*model.x2<=4)\n",
    "model.eq2 = Constraint(expr=9*model.x1+1*model.x2<=6)\n",
    "\n",
    "model.obj = Objective(expr=3*model.x1+model.x2, sense=maximize)"
   ]
  },
  {
   "cell_type": "code",
   "execution_count": 3,
   "id": "b9195aa0-8631-45ca-af7e-bbd85484d4e2",
   "metadata": {},
   "outputs": [
    {
     "name": "stdout",
     "output_type": "stream",
     "text": [
      "feasible\n"
     ]
    }
   ],
   "source": [
    "opt = SolverFactory('glpk')\n",
    "instance = model.create_instance()\n",
    "\n",
    "#Make the abstract parameter concrete\n",
    "instance.a11=7\n",
    "results = opt.solve(instance) #solves and updates instance\n",
    "\n",
    "if (results.solver.status == SolverStatus.ok) and (results.solver.termination_condition == TerminationCondition.optimal):\n",
    "    print('feasible')\n",
    "elif (results.solver.termination_condition == TerminationCondition.infeasible):\n",
    "    print('infeasible')\n",
    "else:\n",
    "    print('Solver Status:', results.solver.status)"
   ]
  },
  {
   "cell_type": "code",
   "execution_count": 4,
   "id": "992256cc-de33-40d1-87fa-44653dbe7137",
   "metadata": {},
   "outputs": [
    {
     "name": "stdout",
     "output_type": "stream",
     "text": [
      "eq1 : Size=1, Index=None, Active=True\n",
      "    Key  : Lower : Body          : Upper : Active\n",
      "    None :  -Inf : a11*x1 + 3*x2 :   4.0 :   True\n",
      "eq2 : Size=1, Index=None, Active=True\n",
      "    Key  : Lower : Body      : Upper : Active\n",
      "    None :  -Inf : 9*x1 + x2 :   6.0 :   True\n"
     ]
    }
   ],
   "source": [
    "instance.eq1.pprint()\n",
    "instance.eq2.pprint()"
   ]
  },
  {
   "cell_type": "code",
   "execution_count": 5,
   "id": "353fe74f-dc0e-4c97-a738-0e400cfa0fde",
   "metadata": {},
   "outputs": [
    {
     "name": "stdout",
     "output_type": "stream",
     "text": [
      "X1=  0.571428571428571\n",
      "X2=  0.0\n",
      "J=  1.7142857142857129\n"
     ]
    }
   ],
   "source": [
    "print('X1= ', value(instance.x1))\n",
    "print('X2= ', value(instance.x2))\n",
    "print('J= ', value(instance.obj))"
   ]
  },
  {
   "cell_type": "code",
   "execution_count": null,
   "id": "5c5a141a-8d47-4398-97b2-876c24ef9bb8",
   "metadata": {},
   "outputs": [],
   "source": []
  }
 ],
 "metadata": {
  "kernelspec": {
   "display_name": "Python 3 (ipykernel)",
   "language": "python",
   "name": "python3"
  },
  "language_info": {
   "codemirror_mode": {
    "name": "ipython",
    "version": 3
   },
   "file_extension": ".py",
   "mimetype": "text/x-python",
   "name": "python",
   "nbconvert_exporter": "python",
   "pygments_lexer": "ipython3",
   "version": "3.9.7"
  }
 },
 "nbformat": 4,
 "nbformat_minor": 5
}
