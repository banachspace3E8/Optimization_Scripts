{
 "cells": [
  {
   "cell_type": "code",
   "execution_count": 11,
   "id": "298f42ce-bc47-4eaf-98b5-a4d68a0429b1",
   "metadata": {},
   "outputs": [],
   "source": [
    "#Distribute N brothers inside a rectangle of given dimension such that min distance between each pair is maximum\n",
    "#max(xi, yi) J = r\n",
    "#such that:\n",
    "#          (xi - xj)^2 + (yi - yj)^2 >= r^2\n",
    "#          0 <= xi <= 1\n",
    "#          0 <= yi <= 1"
   ]
  },
  {
   "cell_type": "code",
   "execution_count": 12,
   "id": "0e862722-a68e-4970-8deb-5644e53763ed",
   "metadata": {},
   "outputs": [],
   "source": [
    "from pyomo.environ import *\n",
    "import matplotlib.pyplot as plt\n",
    "import random"
   ]
  },
  {
   "cell_type": "code",
   "execution_count": 13,
   "id": "8637877f-152e-4e55-a836-e03c008579ed",
   "metadata": {},
   "outputs": [],
   "source": [
    "model = AbstractModel()\n",
    "model.N = Param(mutable=True)\n",
    "#Set of brothers\n",
    "model.i = RangeSet(1, model.N)\n",
    "#j is alias of set i\n",
    "model.j = Set(initialize=model.i)\n",
    "#L is dimension of board\n",
    "model.L = Param(initialize=1,mutable=True)\n",
    "\n",
    "#To randomly initialize x and y with a number between 0 and 1\n",
    "def initval(model,i):\n",
    "    return random.uniform(0, 1)\n",
    "\n",
    "\n",
    "model.x = Var(model.i, bounds=(0,model.L), within=NonNegativeReals, initialize=initval)\n",
    "model.y = Var(model.i, bounds=(0,model.L), within=NonNegativeReals, initialize=initval)\n",
    "model.r = Var(within=NonNegativeReals)\n",
    "\n",
    "def C1_rule(model, i, j):\n",
    "    #only define distance for different brothers\n",
    "    if i!=j:\n",
    "        return (model.x[i] - model.x[j])**2 + (model.y[i] - model.y[j])**2 >= model.r**2\n",
    "    #do not define distance for the same brothers\n",
    "    else:\n",
    "        return Constraint.Skip\n",
    "\n",
    "model.C = Constraint(model.i, model.j, rule=C1_rule)\n",
    "model.obj = Objective(expr=model.r, sense=maximize)\n",
    "opt = SolverFactory('ipopt')"
   ]
  },
  {
   "cell_type": "code",
   "execution_count": 14,
   "id": "743712d6-4be7-411d-b019-5464dbb7b1c2",
   "metadata": {},
   "outputs": [
    {
     "name": "stdout",
     "output_type": "stream",
     "text": [
      "WARNING: Constructing RangeSet 'i' from non-constant data (e.g., Var or\n",
      "    mutable Param).  The linkage between this RangeSet and the original source\n",
      "    data will be broken, so updating the data value in the future will not be\n",
      "    reflected in this RangeSet.  To suppress this warning, explicitly convert\n",
      "    the source data to a constant type (e.g., float, int, or immutable Param)\n"
     ]
    }
   ],
   "source": [
    "#instance = model.create_instance(\"EX11.dat\")\n",
    "model.N = 50\n",
    "instance = model.create_instance()\n",
    "results = opt.solve(instance) #solves and updates instance"
   ]
  },
  {
   "cell_type": "code",
   "execution_count": 15,
   "id": "f1965413-d355-41f5-82dc-c6092b0b0757",
   "metadata": {},
   "outputs": [
    {
     "name": "stdout",
     "output_type": "stream",
     "text": [
      "Min distance is  0.165\n"
     ]
    },
    {
     "data": {
      "image/png": "[encoded data removed]",
      "text/plain": [
       "<Figure size 432x288 with 1 Axes>"
      ]
     },
     "metadata": {
      "needs_background": "light"
     },
     "output_type": "display_data"
    }
   ],
   "source": [
    "X = [value(instance.x[i]) for i in instance.i]\n",
    "Y = [value(instance.y[i]) for i in instance.i]\n",
    "plt.scatter(X, Y, s=25, color='blue')\n",
    "plt.xlabel('X')\n",
    "plt.ylabel('Y')\n",
    "plt.title('Hostile brothers for N= ' + str(value(instance.N)))\n",
    "print('Min distance is ', round(value(instance.r), 3))"
   ]
  },
  {
   "cell_type": "code",
   "execution_count": null,
   "id": "6bfd3d83-50a6-4deb-b0dd-f1798a7b573a",
   "metadata": {},
   "outputs": [],
   "source": []
  }
 ],
 "metadata": {
  "kernelspec": {
   "display_name": "Python 3 (ipykernel)",
   "language": "python",
   "name": "python3"
  },
  "language_info": {
   "codemirror_mode": {
    "name": "ipython",
    "version": 3
   },
   "file_extension": ".py",
   "mimetype": "text/x-python",
   "name": "python",
   "nbconvert_exporter": "python",
   "pygments_lexer": "ipython3",
   "version": "3.9.7"
  }
 },
 "nbformat": 4,
 "nbformat_minor": 5
}
