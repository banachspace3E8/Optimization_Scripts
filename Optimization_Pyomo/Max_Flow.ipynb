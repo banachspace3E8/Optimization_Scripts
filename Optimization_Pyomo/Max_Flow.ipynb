{
 "cells": [
  {
   "cell_type": "code",
   "execution_count": 1,
   "id": "25d21c98-2251-42d3-9be3-be0102c06d3c",
   "metadata": {},
   "outputs": [],
   "source": [
    "#What is the maximum flow from staring node to the ending node?\n",
    "# max G\n",
    "#such that:\n",
    "#          for all i: Gi - Li = sum over j (flow(i,j)) "
   ]
  },
  {
   "cell_type": "code",
   "execution_count": 2,
   "id": "457196c3-9726-48ce-8ba9-6d8c37a1b0f2",
   "metadata": {},
   "outputs": [],
   "source": [
    "from pyomo.environ import *\n",
    "import matplotlib.pyplot as plt\n",
    "import numpy as np\n",
    "import random"
   ]
  },
  {
   "cell_type": "code",
   "execution_count": 36,
   "id": "26fb4518-f562-44d2-8961-dd7d627e15bc",
   "metadata": {},
   "outputs": [],
   "source": [
    "model = AbstractModel()\n",
    "#i represents a set containing all the nodes 0,...,6\n",
    "model.i = Set(initialize=range(0,7))\n",
    "#j is alias of i\n",
    "model.j = Set(initialize=model.i)\n",
    "\n",
    "model.flow = Var(model.i, model.j, within=NonNegativeReals)\n",
    "model.cap = Param(model.i, model.j, within=Reals, mutable=True)\n",
    "#G represents how much we can inject and extract within a node\n",
    "#G is the objective function\n",
    "model.G = Var(bounds=(0, 100), within=NonNegativeReals)\n",
    "#model.OF = Var(within=NonNegativeReals, initialize=0)\n",
    "\n",
    "\n",
    "def rule_C1(model, i):\n",
    "    if i==0:\n",
    "        return model.G == sum(model.flow[i,j] - model.flow[j,i] if i!=j else 0 for j in model.j)\n",
    "    elif i==6:\n",
    "        return -model.G == sum(model.flow[i,j] - model.flow[j,i] if i!=j else 0 for j in model.j)\n",
    "    else:\n",
    "        return 0 == sum(model.flow[i,j] - model.flow[j,i] if i!=j else 0 for j in model.j)\n",
    "model.C1 = Constraint(model.i, rule=rule_C1)\n",
    "\n",
    "def rule_C2(model, i, j):\n",
    "    if i!=j:\n",
    "        #without this, solver creates constraints for every pair of i and j \n",
    "        #Hence, the solver computes variables for conncetion of a node i with itself\n",
    "        return model.flow[i,j] <= model.cap[i,j]\n",
    "    else:\n",
    "        return Constraint.Skip\n",
    "model.C2 = Constraint(model.i, model.j, rule=rule_C2)\n",
    "\n",
    "model.obj1 = Objective(expr=model.G, sense=maximize)\n",
    "opt=SolverFactory('glpk')"
   ]
  },
  {
   "cell_type": "code",
   "execution_count": 37,
   "id": "97fd6184-9043-4726-beab-618b5ea7b8f1",
   "metadata": {},
   "outputs": [
    {
     "name": "stdout",
     "output_type": "stream",
     "text": [
      "OF=  7.0\n"
     ]
    }
   ],
   "source": [
    "#MaxFlow.dat contains the capacity between each nodes\n",
    "instance = model.create_instance(\"MaxFlow.dat\")\n",
    "results = opt.solve(instance) # solves and updates instance\n",
    "print('OF= ', value(instance.obj1))"
   ]
  },
  {
   "cell_type": "code",
   "execution_count": 39,
   "id": "55a552c0-5067-47c9-b982-43048f949470",
   "metadata": {},
   "outputs": [
    {
     "data": {
      "image/png": "[encoded data removed]",
      "text/plain": [
       "<Figure size 504x432 with 1 Axes>"
      ]
     },
     "metadata": {
      "needs_background": "light"
     },
     "output_type": "display_data"
    }
   ],
   "source": [
    "#data is used to plot graph with respect to capacity\n",
    "data={'0':(1,2),\n",
    "       '1':(3,2),\n",
    "     '2':(3,4),\n",
    "     '3':(3,0),\n",
    "     '4':(5,4),\n",
    "     '5':(5,0),\n",
    "     '6':(7,2)}\n",
    "fig=plt.figure(figsize=(7,6))\n",
    "\n",
    "for i in instance.i:\n",
    "    #print(data[str(i)], data[str(i)][0], data[str(i)][1])\n",
    "    plt.scatter(data[str(i)][0], data[str(i)][1], s=100)\n",
    "    plt.text(data[str(i)][0], data[str(i)][1]-0.2, str(i),fontsize=14)\n",
    "    \n",
    "    for j in instance.j:\n",
    "        if (i!=j):\n",
    "            if value(instance.flow[i,j]>0.001):\n",
    "                plt.plot([data[str(i)][0], data[str(j)][0]],[data[str(i)][1], data[str(j)][1]],lw=value(instance.flow[i,j]),color='blue',alpha=0.5)\n",
    "                plt.axis('off')"
   ]
  },
  {
   "cell_type": "code",
   "execution_count": 40,
   "id": "0730338e-20ee-434d-a755-aaa836203b08",
   "metadata": {},
   "outputs": [
    {
     "name": "stdout",
     "output_type": "stream",
     "text": [
      "Model unknown\n",
      "\n",
      "  Variables:\n",
      "    flow : Size=49, Index=flow_index\n",
      "        Key    : Lower : Value : Upper : Fixed : Stale : Domain\n",
      "        (0, 0) :     0 :  None :  None : False :  True : NonNegativeReals\n",
      "        (0, 1) :     0 :   2.0 :  None : False : False : NonNegativeReals\n",
      "        (0, 2) :     0 :   1.0 :  None : False : False : NonNegativeReals\n",
      "        (0, 3) :     0 :   4.0 :  None : False : False : NonNegativeReals\n",
      "        (0, 4) :     0 :   0.0 :  None : False : False : NonNegativeReals\n",
      "        (0, 5) :     0 :   0.0 :  None : False : False : NonNegativeReals\n",
      "        (0, 6) :     0 :   0.0 :  None : False : False : NonNegativeReals\n",
      "        (1, 0) :     0 :   0.0 :  None : False : False : NonNegativeReals\n",
      "        (1, 1) :     0 :  None :  None : False :  True : NonNegativeReals\n",
      "        (1, 2) :     0 :   0.0 :  None : False : False : NonNegativeReals\n",
      "        (1, 3) :     0 :   0.0 :  None : False : False : NonNegativeReals\n",
      "        (1, 4) :     0 :   2.0 :  None : False : False : NonNegativeReals\n",
      "        (1, 5) :     0 :   0.0 :  None : False : False : NonNegativeReals\n",
      "        (1, 6) :     0 :   0.0 :  None : False : False : NonNegativeReals\n",
      "        (2, 0) :     0 :   0.0 :  None : False : False : NonNegativeReals\n",
      "        (2, 1) :     0 :   0.0 :  None : False : False : NonNegativeReals\n",
      "        (2, 2) :     0 :  None :  None : False :  True : NonNegativeReals\n",
      "        (2, 3) :     0 :   0.0 :  None : False : False : NonNegativeReals\n",
      "        (2, 4) :     0 :   1.0 :  None : False : False : NonNegativeReals\n",
      "        (2, 5) :     0 :   0.0 :  None : False : False : NonNegativeReals\n",
      "        (2, 6) :     0 :   0.0 :  None : False : False : NonNegativeReals\n",
      "        (3, 0) :     0 :   0.0 :  None : False : False : NonNegativeReals\n",
      "        (3, 1) :     0 :   0.0 :  None : False : False : NonNegativeReals\n",
      "        (3, 2) :     0 :   0.0 :  None : False : False : NonNegativeReals\n",
      "        (3, 3) :     0 :  None :  None : False :  True : NonNegativeReals\n",
      "        (3, 4) :     0 :   0.0 :  None : False : False : NonNegativeReals\n",
      "        (3, 5) :     0 :   4.0 :  None : False : False : NonNegativeReals\n",
      "        (3, 6) :     0 :   0.0 :  None : False : False : NonNegativeReals\n",
      "        (4, 0) :     0 :   0.0 :  None : False : False : NonNegativeReals\n",
      "        (4, 1) :     0 :   0.0 :  None : False : False : NonNegativeReals\n",
      "        (4, 2) :     0 :   0.0 :  None : False : False : NonNegativeReals\n",
      "        (4, 3) :     0 :   0.0 :  None : False : False : NonNegativeReals\n",
      "        (4, 4) :     0 :  None :  None : False :  True : NonNegativeReals\n",
      "        (4, 5) :     0 :   1.0 :  None : False : False : NonNegativeReals\n",
      "        (4, 6) :     0 :   2.0 :  None : False : False : NonNegativeReals\n",
      "        (5, 0) :     0 :   0.0 :  None : False : False : NonNegativeReals\n",
      "        (5, 1) :     0 :   0.0 :  None : False : False : NonNegativeReals\n",
      "        (5, 2) :     0 :   0.0 :  None : False : False : NonNegativeReals\n",
      "        (5, 3) :     0 :   0.0 :  None : False : False : NonNegativeReals\n",
      "        (5, 4) :     0 :   0.0 :  None : False : False : NonNegativeReals\n",
      "        (5, 5) :     0 :  None :  None : False :  True : NonNegativeReals\n",
      "        (5, 6) :     0 :   5.0 :  None : False : False : NonNegativeReals\n",
      "        (6, 0) :     0 :   0.0 :  None : False : False : NonNegativeReals\n",
      "        (6, 1) :     0 :   0.0 :  None : False : False : NonNegativeReals\n",
      "        (6, 2) :     0 :   0.0 :  None : False : False : NonNegativeReals\n",
      "        (6, 3) :     0 :   0.0 :  None : False : False : NonNegativeReals\n",
      "        (6, 4) :     0 :   0.0 :  None : False : False : NonNegativeReals\n",
      "        (6, 5) :     0 :   0.0 :  None : False : False : NonNegativeReals\n",
      "        (6, 6) :     0 :  None :  None : False :  True : NonNegativeReals\n",
      "    G : Size=1, Index=None\n",
      "        Key  : Lower : Value : Upper : Fixed : Stale : Domain\n",
      "        None :     0 :   7.0 :   100 : False : False : NonNegativeReals\n",
      "\n",
      "  Objectives:\n",
      "    obj1 : Size=1, Index=None, Active=True\n",
      "        Key  : Active : Value\n",
      "        None :   True :   7.0\n",
      "\n",
      "  Constraints:\n",
      "    C1 : Size=7\n",
      "        Key : Lower : Body : Upper\n",
      "          0 :   0.0 :  0.0 :   0.0\n",
      "          1 :   0.0 :  0.0 :   0.0\n",
      "          2 :   0.0 :  0.0 :   0.0\n",
      "          3 :   0.0 :  0.0 :   0.0\n",
      "          4 :   0.0 :  0.0 :   0.0\n",
      "          5 :   0.0 :  0.0 :   0.0\n",
      "          6 :   0.0 :  0.0 :   0.0\n",
      "    C2 : Size=42\n",
      "        Key    : Lower : Body : Upper\n",
      "        (0, 1) :  None :  2.0 :     3\n",
      "        (0, 2) :  None :  1.0 :     3\n",
      "        (0, 3) :  None :  4.0 :     4\n",
      "        (0, 4) :  None :  0.0 :     0\n",
      "        (0, 5) :  None :  0.0 :     0\n",
      "        (0, 6) :  None :  0.0 :     0\n",
      "        (1, 0) :  None :  0.0 :     0\n",
      "        (1, 2) :  None :  0.0 :     0\n",
      "        (1, 3) :  None :  0.0 :     0\n",
      "        (1, 4) :  None :  2.0 :     2\n",
      "        (1, 5) :  None :  0.0 :     0\n",
      "        (1, 6) :  None :  0.0 :     0\n",
      "        (2, 0) :  None :  0.0 :     0\n",
      "        (2, 1) :  None :  0.0 :    10\n",
      "        (2, 3) :  None :  0.0 :     0\n",
      "        (2, 4) :  None :  1.0 :     1\n",
      "        (2, 5) :  None :  0.0 :     0\n",
      "        (2, 6) :  None :  0.0 :     0\n",
      "        (3, 0) :  None :  0.0 :     0\n",
      "        (3, 1) :  None :  0.0 :     0\n",
      "        (3, 2) :  None :  0.0 :     0\n",
      "        (3, 4) :  None :  0.0 :     0\n",
      "        (3, 5) :  None :  4.0 :     5\n",
      "        (3, 6) :  None :  0.0 :     0\n",
      "        (4, 0) :  None :  0.0 :     0\n",
      "        (4, 1) :  None :  0.0 :     0\n",
      "        (4, 2) :  None :  0.0 :     0\n",
      "        (4, 3) :  None :  0.0 :     0\n",
      "        (4, 5) :  None :  1.0 :     1\n",
      "        (4, 6) :  None :  2.0 :     2\n",
      "        (5, 0) :  None :  0.0 :     0\n",
      "        (5, 1) :  None :  0.0 :     0\n",
      "        (5, 2) :  None :  0.0 :     0\n",
      "        (5, 3) :  None :  0.0 :     0\n",
      "        (5, 4) :  None :  0.0 :     0\n",
      "        (5, 6) :  None :  5.0 :     5\n",
      "        (6, 0) :  None :  0.0 :     0\n",
      "        (6, 1) :  None :  0.0 :     0\n",
      "        (6, 2) :  None :  0.0 :     0\n",
      "        (6, 3) :  None :  0.0 :     0\n",
      "        (6, 4) :  None :  0.0 :     0\n",
      "        (6, 5) :  None :  0.0 :     0\n"
     ]
    }
   ],
   "source": [
    "instance.display()\n",
    "#Two main variables G and flow\n"
   ]
  },
  {
   "cell_type": "code",
   "execution_count": null,
   "id": "00ff836e-ee32-441a-9ee0-4027d73d065a",
   "metadata": {},
   "outputs": [],
   "source": []
  }
 ],
 "metadata": {
  "kernelspec": {
   "display_name": "Python 3 (ipykernel)",
   "language": "python",
   "name": "python3"
  },
  "language_info": {
   "codemirror_mode": {
    "name": "ipython",
    "version": 3
   },
   "file_extension": ".py",
   "mimetype": "text/x-python",
   "name": "python",
   "nbconvert_exporter": "python",
   "pygments_lexer": "ipython3",
   "version": "3.9.7"
  }
 },
 "nbformat": 4,
 "nbformat_minor": 5
}
