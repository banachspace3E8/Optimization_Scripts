{
 "cells": [
  {
   "cell_type": "code",
   "execution_count": 1,
   "id": "1fa4e159-f4b3-4d95-9ae7-994d101bebca",
   "metadata": {},
   "outputs": [],
   "source": [
    "#Mixed-Integer Linear Optimization Problem\n",
    "#Allocate max number of queens on a chess board without attacking each other\n",
    "#Max(U) J = U (i,j)\n",
    "#such that:\n",
    "#          Sum over i(U(i, j)) <= 1 (cant have more than 1 queens in a single row)\n",
    "#          Sum over j(U(i, j)) <= 1 (cant have more than 1 queens in a single columns)\n",
    "#          for all i,j: if (j - c)/(i - r) = -1, then sum over c, r(U(c, r)) <= 1 (only one queen in a diagonal)\n",
    "#          for all i,j: if (j - c)/(i - r) = 1, then sum over c, r(U(c, r)) <= 1 (only one queen in an anti-diagonal)"
   ]
  },
  {
   "cell_type": "code",
   "execution_count": 2,
   "id": "08a2c384-02a1-409c-924d-b00c9cd46968",
   "metadata": {},
   "outputs": [],
   "source": [
    "from pyomo.environ import *\n",
    "import matplotlib.pyplot as plt\n",
    "#import numpy as np\n",
    "#import random"
   ]
  },
  {
   "cell_type": "code",
   "execution_count": 3,
   "id": "5d7919a2-0406-46bb-bf7f-67cf6560362e",
   "metadata": {},
   "outputs": [],
   "source": [
    "model = AbstractModel()\n",
    "#N is dimension of board\n",
    "model.N = Param(mutable=True, default=8)\n",
    "model.i = RangeSet(1, model.N)\n",
    "model.j = Set(initialize=model.i)\n",
    "model.U = Var(model.i, model.j, within=Binary, initialize=1)\n",
    "\n",
    "#Row constraint\n",
    "def Crow_rule(model, i):\n",
    "    return sum(model.U[i, j] for j in model.j) <= 1\n",
    "model.Crow = Constraint(model.i, rule=Crow_rule)\n",
    "\n",
    "#Column Constraint\n",
    "def Ccol_rule(model, j):\n",
    "    return sum(model.U[i, j] for i in model.i) <= 1\n",
    "model.Ccol = Constraint(model.j, rule=Ccol_rule)\n",
    "\n",
    "#Diagonal Constraint\n",
    "def Cdiag_rule1(model, i, j):\n",
    "    totalQueen=0\n",
    "    for r in model.i:\n",
    "        for c in model.j:\n",
    "            if j-c==i-r:\n",
    "                totalQueen+=model.U[c,r]\n",
    "    return totalQueen<=1\n",
    "model.Cdiag1 = Constraint(model.i, model.j, rule=Cdiag_rule1)\n",
    "\n",
    "#anti-diagonal constraint\n",
    "def Cdiag_rule2(model, i, j):\n",
    "    totalQueen=0\n",
    "    for r in model.i:\n",
    "        for c in model.j:\n",
    "            if j-c==-(i-r):\n",
    "                totalQueen+=model.U[c,r]\n",
    "    return totalQueen<=1\n",
    "model.Cdiag2 = Constraint(model.i, model.j, rule=Cdiag_rule2)\n",
    "\n",
    "def Obj_rule(model):\n",
    "    return sum(model.U[i, j] for i in model.i for j in model.j)\n",
    "model.obj = Objective(rule=Obj_rule, sense=maximize)\n",
    "opt = SolverFactory('glpk')"
   ]
  },
  {
   "cell_type": "code",
   "execution_count": 4,
   "id": "7dd0a6b6-45c4-4105-8e72-079f5ac2d3db",
   "metadata": {},
   "outputs": [
    {
     "name": "stdout",
     "output_type": "stream",
     "text": [
      "WARNING: Constructing RangeSet 'i' from non-constant data (e.g., Var or\n",
      "    mutable Param).  The linkage between this RangeSet and the original source\n",
      "    data will be broken, so updating the data value in the future will not be\n",
      "    reflected in this RangeSet.  To suppress this warning, explicitly convert\n",
      "    the source data to a constant type (e.g., float, int, or immutable Param)\n"
     ]
    }
   ],
   "source": [
    "#instance = model.create_instance(\"EX12.dat\")\n",
    "model.N = 8;\n",
    "instance = model.create_instance()"
   ]
  },
  {
   "cell_type": "code",
   "execution_count": 5,
   "id": "782de2f9-263b-4d39-bc87-58fbd9402aa9",
   "metadata": {},
   "outputs": [
    {
     "data": {
      "image/png": "[encoded data removed]",
      "text/plain": [
       "<Figure size 432x288 with 1 Axes>"
      ]
     },
     "metadata": {
      "needs_background": "light"
     },
     "output_type": "display_data"
    }
   ],
   "source": [
    "f, ax = plt.subplots(1, 1)\n",
    "results = opt.solve(instance) #solves and updates instance\n",
    "for i in instance.i:\n",
    "    for j in instance.j:\n",
    "        X = value(instance.U[i, j])\n",
    "        if X == 1:\n",
    "            plt.scatter(i, j, s=55, color='black')\n",
    "        else:\n",
    "            plt.scatter(i, j, s=10, color='red')\n",
    "plt.axis('off')\n",
    "plt.show()"
   ]
  },
  {
   "cell_type": "code",
   "execution_count": 6,
   "id": "3546843c-3918-4ed8-9267-4a1ca6328dd9",
   "metadata": {},
   "outputs": [],
   "source": [
    "f.savefig('NQueen.png', format='png', dpi=1200)"
   ]
  }
 ],
 "metadata": {
  "kernelspec": {
   "display_name": "Python 3 (ipykernel)",
   "language": "python",
   "name": "python3"
  },
  "language_info": {
   "codemirror_mode": {
    "name": "ipython",
    "version": 3
   },
   "file_extension": ".py",
   "mimetype": "text/x-python",
   "name": "python",
   "nbconvert_exporter": "python",
   "pygments_lexer": "ipython3",
   "version": "3.9.7"
  }
 },
 "nbformat": 4,
 "nbformat_minor": 5
}
