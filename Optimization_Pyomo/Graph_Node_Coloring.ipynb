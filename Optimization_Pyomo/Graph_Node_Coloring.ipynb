{
 "cells": [
  {
   "cell_type": "code",
   "execution_count": 50,
   "id": "87d1f500-8f8e-49dc-9250-e2b54534adfe",
   "metadata": {},
   "outputs": [],
   "source": [
    "#If we want to paint the nodes such that no two adjacent \n",
    "#nodes are painted with the same color, how many colors do we need in minimum?\n",
    "\n",
    "#max(X(i,c), y) J = y\n",
    "#such that:\n",
    "#          (X(i,c) + X(j,c))L(i,j) <= 1\n",
    "#          y >= c * X(i,c)\n",
    "#          sum over c (X(i,c)) = 1"
   ]
  },
  {
   "cell_type": "code",
   "execution_count": 51,
   "id": "b3947ddd-10db-4a84-b40e-25c89f011e0d",
   "metadata": {},
   "outputs": [],
   "source": [
    "import matplotlib.pyplot as plt\n",
    "#networkx for drawing graph plots\n",
    "import networkx as nx\n",
    "#Define graph\n",
    "G = nx.grid_2d_graph(5,5)\n",
    "#pos for position of the nodes\n",
    "pos = nx.spring_layout(G, iterations=100)"
   ]
  },
  {
   "cell_type": "code",
   "execution_count": 52,
   "id": "43c24211-09a0-4540-bd27-ef88a3b775df",
   "metadata": {},
   "outputs": [],
   "source": [
    "from pyomo.environ import *\n",
    "import matplotlib.pyplot as plt\n",
    "import numpy as np\n",
    "import random\n",
    "import pandas as pd"
   ]
  },
  {
   "cell_type": "code",
   "execution_count": 53,
   "id": "b02043c2-55a3-4f52-8d47-c354eeb9ba74",
   "metadata": {},
   "outputs": [],
   "source": [
    "model = AbstractModel()\n",
    "#Number of nodes\n",
    "model.N = Param(mutable=True)\n",
    "#Set of nodes\n",
    "model.i = RangeSet(1, model.N)\n",
    "model.j = Set(initialize=model.i)\n",
    "#Set of colors where maximum will be the total number of nodes\n",
    "model.kolor = RangeSet(1, model.N)\n",
    "#L is parameter showing if i is connected to j\n",
    "#Connectivity Matrix\n",
    "model.L = Param(model.i, model.j, initialize=0, mutable=True)\n",
    "model.X = Var(model.i, model.kolor, domain=Binary)\n",
    "model.y = Var(within=NonNegativeReals)\n",
    "\n",
    "def rule_C1(model, i, j, c):\n",
    "    return model.L[i,j]*(model.X[i,c] + model.X[j,c]) <= 1\n",
    "model.C1 = Constraint(model.i, model.j, model.kolor, rule=rule_C1)\n",
    "\n",
    "def rule_C2(model, i, c):\n",
    "    return model.y >= c*model.X[i,c]\n",
    "model.C2 = Constraint(model.i, model.kolor, rule=rule_C2)\n",
    "\n",
    "def rule_C3(model, i):\n",
    "    return sum(model.X[i,c] for c in model.kolor) == 1\n",
    "model.C3 = Constraint(model.i, rule=rule_C3)\n",
    "model.OF = Objective(expr=model.y, sense=minimize)"
   ]
  },
  {
   "cell_type": "code",
   "execution_count": 54,
   "id": "fb654cea-5437-4302-8b9d-59a25ad3c300",
   "metadata": {},
   "outputs": [
    {
     "name": "stdout",
     "output_type": "stream",
     "text": [
      "WARNING: Constructing RangeSet 'i' from non-constant data (e.g., Var or\n",
      "    mutable Param).  The linkage between this RangeSet and the original source\n",
      "    data will be broken, so updating the data value in the future will not be\n",
      "    reflected in this RangeSet.  To suppress this warning, explicitly convert\n",
      "    the source data to a constant type (e.g., float, int, or immutable Param)\n",
      "WARNING: Constructing RangeSet 'kolor' from non-constant data (e.g., Var or\n",
      "    mutable Param).  The linkage between this RangeSet and the original source\n",
      "    data will be broken, so updating the data value in the future will not be\n",
      "    reflected in this RangeSet.  To suppress this warning, explicitly convert\n",
      "    the source data to a constant type (e.g., float, int, or immutable Param)\n"
     ]
    }
   ],
   "source": [
    "#glpk solver for linear models\n",
    "opt = SolverFactory('glpk')\n",
    "model.N = len(G.nodes)\n",
    "#instance = model.create_instance('Ex36.dat')\n",
    "instance = model.create_instance()\n"
   ]
  },
  {
   "cell_type": "code",
   "execution_count": 55,
   "id": "7ebdc449-b0c0-41f8-92c7-67e48ca1a60a",
   "metadata": {},
   "outputs": [
    {
     "name": "stdout",
     "output_type": "stream",
     "text": [
      "(0, 0)\n",
      "(0, 1)\n",
      "(0, 2)\n",
      "(0, 3)\n",
      "(0, 4)\n",
      "(1, 0)\n",
      "(1, 1)\n",
      "(1, 2)\n",
      "(1, 3)\n",
      "(1, 4)\n",
      "(2, 0)\n",
      "(2, 1)\n",
      "(2, 2)\n",
      "(2, 3)\n",
      "(2, 4)\n",
      "(3, 0)\n",
      "(3, 1)\n",
      "(3, 2)\n",
      "(3, 3)\n",
      "(3, 4)\n",
      "(4, 0)\n",
      "(4, 1)\n",
      "(4, 2)\n",
      "(4, 3)\n",
      "(4, 4)\n"
     ]
    }
   ],
   "source": [
    "counter = 1\n",
    "edges = []\n",
    "coordinates = []\n",
    "nodes = []\n",
    "xvec = []\n",
    "yvec = []\n",
    "for nd in G.nodes:\n",
    "    print(nd)\n",
    "    nodes.append(counter)\n",
    "    coordinates.append(nd)\n",
    "    xvec.append(nd[0])\n",
    "    yvec.append(nd[1])\n",
    "    counter += 1\n",
    "    \n",
    "mygraph = {'nodes': nodes,\n",
    "          'xy': coordinates,\n",
    "          'x': xvec,\n",
    "          'y': yvec}\n",
    "df = pd.DataFrame(mygraph, columns=['nodes', 'xy', 'x', 'y'])\n",
    "\n",
    "for i in instance.i:\n",
    "    for j in instance.j:\n",
    "        instance.L[i,j] = 0\n",
    "        \n",
    "for edg in G.edges:\n",
    "    fn = edg[0]\n",
    "    tn = edg[1]\n",
    "    ind1 = (df['x'] == fn[0]) & (df['y'] == fn[1])\n",
    "    f = df.loc[ind1, 'nodes']\n",
    "    ind2 = (df['x'] == tn[0]) & (df['y'] == tn[1])\n",
    "    t = df.loc[ind2, 'nodes']\n",
    "    i = f.iloc[0]\n",
    "    j = t.iloc[0]\n",
    "    instance.L[i,j] = 1\n",
    "    instance.L[j,i] = 1"
   ]
  },
  {
   "cell_type": "code",
   "execution_count": 56,
   "id": "e11082ee-46f8-427d-a6b1-c141f0351f8e",
   "metadata": {},
   "outputs": [
    {
     "name": "stdout",
     "output_type": "stream",
     "text": [
      "(1, 2) 1\n",
      "(1, 6) 1\n",
      "(2, 1) 1\n",
      "(2, 3) 1\n",
      "(2, 7) 1\n",
      "(3, 2) 1\n",
      "(3, 4) 1\n",
      "(3, 8) 1\n",
      "(4, 3) 1\n",
      "(4, 5) 1\n",
      "(4, 9) 1\n",
      "(5, 4) 1\n",
      "(5, 10) 1\n",
      "(6, 1) 1\n",
      "(6, 7) 1\n",
      "(6, 11) 1\n",
      "(7, 2) 1\n",
      "(7, 6) 1\n",
      "(7, 8) 1\n",
      "(7, 12) 1\n",
      "(8, 3) 1\n",
      "(8, 7) 1\n",
      "(8, 9) 1\n",
      "(8, 13) 1\n",
      "(9, 4) 1\n",
      "(9, 8) 1\n",
      "(9, 10) 1\n",
      "(9, 14) 1\n",
      "(10, 5) 1\n",
      "(10, 9) 1\n",
      "(10, 15) 1\n",
      "(11, 6) 1\n",
      "(11, 12) 1\n",
      "(11, 16) 1\n",
      "(12, 7) 1\n",
      "(12, 11) 1\n",
      "(12, 13) 1\n",
      "(12, 17) 1\n",
      "(13, 8) 1\n",
      "(13, 12) 1\n",
      "(13, 14) 1\n",
      "(13, 18) 1\n",
      "(14, 9) 1\n",
      "(14, 13) 1\n",
      "(14, 15) 1\n",
      "(14, 19) 1\n",
      "(15, 10) 1\n",
      "(15, 14) 1\n",
      "(15, 20) 1\n",
      "(16, 11) 1\n",
      "(16, 17) 1\n",
      "(16, 21) 1\n",
      "(17, 12) 1\n",
      "(17, 16) 1\n",
      "(17, 18) 1\n",
      "(17, 22) 1\n",
      "(18, 13) 1\n",
      "(18, 17) 1\n",
      "(18, 19) 1\n",
      "(18, 23) 1\n",
      "(19, 14) 1\n",
      "(19, 18) 1\n",
      "(19, 20) 1\n",
      "(19, 24) 1\n",
      "(20, 15) 1\n",
      "(20, 19) 1\n",
      "(20, 25) 1\n",
      "(21, 16) 1\n",
      "(21, 22) 1\n",
      "(22, 17) 1\n",
      "(22, 21) 1\n",
      "(22, 23) 1\n",
      "(23, 18) 1\n",
      "(23, 22) 1\n",
      "(23, 24) 1\n",
      "(24, 19) 1\n",
      "(24, 23) 1\n",
      "(24, 25) 1\n",
      "(25, 20) 1\n",
      "(25, 24) 1\n"
     ]
    }
   ],
   "source": [
    "results = opt.solve(instance)\n",
    "for i in instance.i:\n",
    "    for j in instance.j:\n",
    "        if value(instance.L[i,j])>0:\n",
    "            print((i,j), value(instance.L[i,j]))"
   ]
  },
  {
   "cell_type": "code",
   "execution_count": 57,
   "id": "c3b34b9a-a63a-481a-808c-e24ce528bfbd",
   "metadata": {},
   "outputs": [
    {
     "name": "stdout",
     "output_type": "stream",
     "text": [
      "2.0\n",
      "(1, 1) 1.0\n",
      "(2, 2) 1.0\n",
      "(3, 1) 1.0\n",
      "(4, 2) 1.0\n",
      "(5, 1) 1.0\n",
      "(6, 2) 1.0\n",
      "(7, 1) 1.0\n",
      "(8, 2) 1.0\n",
      "(9, 1) 1.0\n",
      "(10, 2) 1.0\n",
      "(11, 1) 1.0\n",
      "(12, 2) 1.0\n",
      "(13, 1) 1.0\n",
      "(14, 2) 1.0\n",
      "(15, 1) 1.0\n",
      "(16, 2) 1.0\n",
      "(17, 1) 1.0\n",
      "(18, 2) 1.0\n",
      "(19, 1) 1.0\n",
      "(20, 2) 1.0\n",
      "(21, 1) 1.0\n",
      "(22, 2) 1.0\n",
      "(23, 1) 1.0\n",
      "(24, 2) 1.0\n",
      "(25, 1) 1.0\n"
     ]
    }
   ],
   "source": [
    "print(value(instance.y))\n",
    "for i in instance.i:\n",
    "    for c in instance.kolor:\n",
    "        if value(instance.X[i,c])>0:\n",
    "            print((i,c), value(instance.X[i,c]))"
   ]
  },
  {
   "cell_type": "code",
   "execution_count": 58,
   "id": "297a5498-d1fe-4f2c-85ae-d6aa57c1d7eb",
   "metadata": {},
   "outputs": [
    {
     "name": "stdout",
     "output_type": "stream",
     "text": [
      "The solver returned a status of :ok\n",
      "this is feasible and optimal\n"
     ]
    }
   ],
   "source": [
    "print(\"The solver returned a status of :\" + str(results.solver.status))\n",
    "\n",
    "from pyomo.opt import SolverStatus, TerminationCondition\n",
    "\n",
    "if (results.solver.status == SolverStatus.ok) and (results.solver.termination_condition == TerminationCondition.optimal):\n",
    "    print(\"this is feasible and optimal\")\n",
    "elif results.solver.termination_condition == TerminationCondition.infeasible:\n",
    "    print(\"do something about it? or exit?\")\n",
    "else:\n",
    "    #something else is wrong\n",
    "    print(str(results.solver))"
   ]
  },
  {
   "cell_type": "code",
   "execution_count": 59,
   "id": "e47e3d9e-1684-4571-8e2a-0f06bf042624",
   "metadata": {},
   "outputs": [],
   "source": [
    "#instance.C1.pprint()"
   ]
  },
  {
   "cell_type": "code",
   "execution_count": 60,
   "id": "ae87e39c-b98e-4c5f-bf66-11fe4c3d832b",
   "metadata": {},
   "outputs": [
    {
     "ename": "TypeError",
     "evalue": "'_AxesStack' object is not callable",
     "output_type": "error",
     "traceback": [
      "\u001b[0;31m---------------------------------------------------------------------------\u001b[0m",
      "\u001b[0;31mTypeError\u001b[0m                                 Traceback (most recent call last)",
      "\u001b[0;32m/tmp/ipykernel_341744/2588186098.py\u001b[0m in \u001b[0;36m<module>\u001b[0;34m\u001b[0m\n\u001b[1;32m      4\u001b[0m         \u001b[0;32mif\u001b[0m \u001b[0mvalue\u001b[0m\u001b[0;34m(\u001b[0m\u001b[0minstance\u001b[0m\u001b[0;34m.\u001b[0m\u001b[0mX\u001b[0m\u001b[0;34m[\u001b[0m\u001b[0mi\u001b[0m\u001b[0;34m,\u001b[0m\u001b[0mc\u001b[0m\u001b[0;34m]\u001b[0m\u001b[0;34m)\u001b[0m\u001b[0;34m>\u001b[0m\u001b[0;36m0\u001b[0m\u001b[0;34m:\u001b[0m\u001b[0;34m\u001b[0m\u001b[0;34m\u001b[0m\u001b[0m\n\u001b[1;32m      5\u001b[0m             \u001b[0mcvec\u001b[0m\u001b[0;34m.\u001b[0m\u001b[0mappend\u001b[0m\u001b[0;34m(\u001b[0m\u001b[0mc\u001b[0m\u001b[0;34m)\u001b[0m\u001b[0;34m\u001b[0m\u001b[0;34m\u001b[0m\u001b[0m\n\u001b[0;32m----> 6\u001b[0;31m \u001b[0ml1\u001b[0m \u001b[0;34m=\u001b[0m \u001b[0mnx\u001b[0m\u001b[0;34m.\u001b[0m\u001b[0mdraw\u001b[0m\u001b[0;34m(\u001b[0m\u001b[0mG\u001b[0m\u001b[0;34m,\u001b[0m\u001b[0mpos\u001b[0m\u001b[0;34m,\u001b[0m\u001b[0mnode_size\u001b[0m\u001b[0;34m=\u001b[0m\u001b[0;36m250\u001b[0m\u001b[0;34m,\u001b[0m\u001b[0mnode_color\u001b[0m\u001b[0;34m=\u001b[0m\u001b[0mcvec\u001b[0m\u001b[0;34m,\u001b[0m\u001b[0mwith_labels\u001b[0m\u001b[0;34m=\u001b[0m\u001b[0;32mFalse\u001b[0m\u001b[0;34m,\u001b[0m\u001b[0mwidth\u001b[0m\u001b[0;34m=\u001b[0m\u001b[0;36m6\u001b[0m\u001b[0;34m)\u001b[0m\u001b[0;34m\u001b[0m\u001b[0;34m\u001b[0m\u001b[0m\n\u001b[0m\u001b[1;32m      7\u001b[0m \u001b[0mplt\u001b[0m\u001b[0;34m.\u001b[0m\u001b[0mshow\u001b[0m\u001b[0;34m(\u001b[0m\u001b[0;34m)\u001b[0m\u001b[0;34m\u001b[0m\u001b[0;34m\u001b[0m\u001b[0m\n",
      "\u001b[0;32m~/anaconda3/lib/python3.9/site-packages/networkx/drawing/nx_pylab.py\u001b[0m in \u001b[0;36mdraw\u001b[0;34m(G, pos, ax, **kwds)\u001b[0m\n\u001b[1;32m    111\u001b[0m     \u001b[0mcf\u001b[0m\u001b[0;34m.\u001b[0m\u001b[0mset_facecolor\u001b[0m\u001b[0;34m(\u001b[0m\u001b[0;34m\"w\"\u001b[0m\u001b[0;34m)\u001b[0m\u001b[0;34m\u001b[0m\u001b[0;34m\u001b[0m\u001b[0m\n\u001b[1;32m    112\u001b[0m     \u001b[0;32mif\u001b[0m \u001b[0max\u001b[0m \u001b[0;32mis\u001b[0m \u001b[0;32mNone\u001b[0m\u001b[0;34m:\u001b[0m\u001b[0;34m\u001b[0m\u001b[0;34m\u001b[0m\u001b[0m\n\u001b[0;32m--> 113\u001b[0;31m         \u001b[0;32mif\u001b[0m \u001b[0mcf\u001b[0m\u001b[0;34m.\u001b[0m\u001b[0m_axstack\u001b[0m\u001b[0;34m(\u001b[0m\u001b[0;34m)\u001b[0m \u001b[0;32mis\u001b[0m \u001b[0;32mNone\u001b[0m\u001b[0;34m:\u001b[0m\u001b[0;34m\u001b[0m\u001b[0;34m\u001b[0m\u001b[0m\n\u001b[0m\u001b[1;32m    114\u001b[0m             \u001b[0max\u001b[0m \u001b[0;34m=\u001b[0m \u001b[0mcf\u001b[0m\u001b[0;34m.\u001b[0m\u001b[0madd_axes\u001b[0m\u001b[0;34m(\u001b[0m\u001b[0;34m(\u001b[0m\u001b[0;36m0\u001b[0m\u001b[0;34m,\u001b[0m \u001b[0;36m0\u001b[0m\u001b[0;34m,\u001b[0m \u001b[0;36m1\u001b[0m\u001b[0;34m,\u001b[0m \u001b[0;36m1\u001b[0m\u001b[0;34m)\u001b[0m\u001b[0;34m)\u001b[0m\u001b[0;34m\u001b[0m\u001b[0;34m\u001b[0m\u001b[0m\n\u001b[1;32m    115\u001b[0m         \u001b[0;32melse\u001b[0m\u001b[0;34m:\u001b[0m\u001b[0;34m\u001b[0m\u001b[0;34m\u001b[0m\u001b[0m\n",
      "\u001b[0;31mTypeError\u001b[0m: '_AxesStack' object is not callable"
     ]
    },
    {
     "data": {
      "text/plain": [
       "<Figure size 432x288 with 0 Axes>"
      ]
     },
     "metadata": {},
     "output_type": "display_data"
    }
   ],
   "source": [
    "cvec=[]\n",
    "for i in instance.i:\n",
    "    for c in instance.kolor:\n",
    "        if value(instance.X[i,c])>0:\n",
    "            cvec.append(c)\n",
    "l1 = nx.draw(G,pos,node_size=250,node_color=cvec,with_labels=False,width=6)\n",
    "plt.show()"
   ]
  },
  {
   "cell_type": "code",
   "execution_count": null,
   "id": "8d043011-88f9-49aa-bc1c-28f973e8eaf3",
   "metadata": {},
   "outputs": [],
   "source": []
  },
  {
   "cell_type": "code",
   "execution_count": null,
   "id": "f4bce97c-5ff6-4147-81cd-99f36bf535cd",
   "metadata": {},
   "outputs": [],
   "source": []
  }
 ],
 "metadata": {
  "kernelspec": {
   "display_name": "Python 3 (ipykernel)",
   "language": "python",
   "name": "python3"
  },
  "language_info": {
   "codemirror_mode": {
    "name": "ipython",
    "version": 3
   },
   "file_extension": ".py",
   "mimetype": "text/x-python",
   "name": "python",
   "nbconvert_exporter": "python",
   "pygments_lexer": "ipython3",
   "version": "3.9.7"
  }
 },
 "nbformat": 4,
 "nbformat_minor": 5
}
