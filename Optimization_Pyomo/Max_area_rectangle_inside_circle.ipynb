{
 "cells": [
  {
   "cell_type": "code",
   "execution_count": 1,
   "id": "0f7dae1f-5aa3-4383-88b7-e7757d4b4581",
   "metadata": {},
   "outputs": [],
   "source": [
    "#What is the maximum area of a rectangle that can fit inside a cricle of radius R?\n",
    "#i.e. one rectangle per quadrant with an area 'xy'\n",
    "#Max J = 4xy\n",
    "#Subject to:\n",
    "#           x^2 + y^2 = R^2\n",
    "#           0 <= x <= R\n",
    "#           0 <= y <= R"
   ]
  },
  {
   "cell_type": "code",
   "execution_count": 2,
   "id": "e4a9d0df-2d06-4008-9002-6e26c6aeecc4",
   "metadata": {},
   "outputs": [],
   "source": [
    "from pyomo.environ import *\n",
    "#max f1 = XY <br>\n",
    "# st X^2+Y^2=R^2\n",
    "# -R<X,Y<R\n",
    "#find the maximum area of a rectangle in a circle"
   ]
  },
  {
   "cell_type": "code",
   "execution_count": 3,
   "id": "200c6b36-3665-4a3d-9037-7db0f1b847fa",
   "metadata": {},
   "outputs": [],
   "source": [
    "#model declcaration is done using pyomo\n",
    "model = ConcreteModel()\n",
    "model.R = Param(initialize=10)\n",
    "model.x = Var(bounds=(0,model.R), initialize=model.R)\n",
    "model.y = Var(bounds=(0,model.R), initialize=model.R)\n",
    "model.C1 = Constraint(expr=model.x**2+model.y**2==model.R**2)\n",
    "model.f1 = Objective(expr=4*model.x*model.y,sense=maximize)"
   ]
  },
  {
   "cell_type": "code",
   "execution_count": 4,
   "id": "8fd4464f-e5cd-4957-93ea-79a6f932d35d",
   "metadata": {},
   "outputs": [],
   "source": [
    "#solvers need to be installed individually\n",
    "solver=SolverFactory('ipopt')\n",
    "results = solver.solve(model);"
   ]
  },
  {
   "cell_type": "code",
   "execution_count": 6,
   "id": "3d6f66c7-9469-445e-b7ac-7bce09cd74bc",
   "metadata": {},
   "outputs": [
    {
     "name": "stdout",
     "output_type": "stream",
     "text": [
      "x=  7.071\n",
      "y=  7.071\n",
      "J=  200.0\n"
     ]
    }
   ],
   "source": [
    "print('x= ', round(value(model.x),3))\n",
    "print('y= ', round(value(model.y),3))\n",
    "print('J= ', round(value(model.f1),3))"
   ]
  },
  {
   "cell_type": "code",
   "execution_count": 8,
   "id": "91ef9599-a3e5-47de-a63f-0ed021b96150",
   "metadata": {},
   "outputs": [],
   "source": [
    "#instead of optimal value of x what would the optimal y and cost be if x is fixed to x = 1?\n",
    "model.x.fix(1)\n",
    "results=solver.solve(model)"
   ]
  },
  {
   "cell_type": "code",
   "execution_count": 9,
   "id": "6d9c82cb-4afc-4c46-a7c0-26ac7144d0d8",
   "metadata": {},
   "outputs": [
    {
     "name": "stdout",
     "output_type": "stream",
     "text": [
      "x=  1\n",
      "y=  9.95\n",
      "J=  39.799\n"
     ]
    }
   ],
   "source": [
    "print('x= ', round(value(model.x),3))\n",
    "print('y= ', round(value(model.y),3))\n",
    "print('J= ', round(value(model.f1),3))"
   ]
  },
  {
   "cell_type": "code",
   "execution_count": 10,
   "id": "bdf863d8-f49c-4269-8d39-4384df77d79c",
   "metadata": {},
   "outputs": [],
   "source": [
    "#unfix x and fix y=1\n",
    "model.x.unfix()\n",
    "model.y.fix(1)\n",
    "results=solver.solve(model);"
   ]
  },
  {
   "cell_type": "code",
   "execution_count": 11,
   "id": "e87f3ffe-9e7b-4d13-9af8-cad8d1a25d46",
   "metadata": {},
   "outputs": [
    {
     "name": "stdout",
     "output_type": "stream",
     "text": [
      "x=  9.95\n",
      "y=  1\n",
      "J=  39.799\n"
     ]
    }
   ],
   "source": [
    "print('x= ', round(value(model.x),3))\n",
    "print('y= ', round(value(model.y),3))\n",
    "print('J= ', round(value(model.f1),3))"
   ]
  },
  {
   "cell_type": "code",
   "execution_count": 12,
   "id": "fa934567-80b5-4787-8bf7-28a0a222dddf",
   "metadata": {},
   "outputs": [],
   "source": [
    "model.x.unfix()\n",
    "model.y.unfix()\n",
    "results=solver.solve(model);"
   ]
  },
  {
   "cell_type": "code",
   "execution_count": 13,
   "id": "76e08c94-b895-4ea6-ac0e-1cffe7ef1816",
   "metadata": {},
   "outputs": [
    {
     "name": "stdout",
     "output_type": "stream",
     "text": [
      "\n",
      "Problem: \n",
      "- Lower bound: -inf\n",
      "  Upper bound: inf\n",
      "  Number of objectives: 1\n",
      "  Number of constraints: 1\n",
      "  Number of variables: 2\n",
      "  Sense: unknown\n",
      "Solver: \n",
      "- Status: ok\n",
      "  Message: Ipopt 3.13.3\\x3a Optimal Solution Found\n",
      "  Termination condition: optimal\n",
      "  Id: 0\n",
      "  Error rc: 0\n",
      "  Time: 0.049810171127319336\n",
      "Solution: \n",
      "- number of solutions: 0\n",
      "  number of solutions displayed: 0\n",
      "\n"
     ]
    }
   ],
   "source": [
    "print(results)"
   ]
  },
  {
   "cell_type": "code",
   "execution_count": null,
   "id": "673e0b51-6c87-457f-9202-98dc9bdaf16f",
   "metadata": {},
   "outputs": [],
   "source": []
  }
 ],
 "metadata": {
  "kernelspec": {
   "display_name": "Python 3 (ipykernel)",
   "language": "python",
   "name": "python3"
  },
  "language_info": {
   "codemirror_mode": {
    "name": "ipython",
    "version": 3
   },
   "file_extension": ".py",
   "mimetype": "text/x-python",
   "name": "python",
   "nbconvert_exporter": "python",
   "pygments_lexer": "ipython3",
   "version": "3.9.7"
  }
 },
 "nbformat": 4,
 "nbformat_minor": 5
}
