{
 "cells": [
  {
   "cell_type": "code",
   "execution_count": 1,
   "id": "150c109d-1dc5-40e3-8937-7e4b577b9741",
   "metadata": {},
   "outputs": [],
   "source": [
    "#Find the locations of N brothers in a triangle in a way that min distance between them is maximum\n",
    "#max(xi, yi)  J = r\n",
    "#such that:\n",
    "#          (xi - xj)^2 + (yi - yj)^2 >= r^2\n",
    "#          0 <= xi <= b\n",
    "#          0 <= yi <= a\n",
    "#          -(a/b)*xi + a >= yi"
   ]
  },
  {
   "cell_type": "code",
   "execution_count": 2,
   "id": "bef913c0",
   "metadata": {},
   "outputs": [],
   "source": [
    "from pyomo.environ import *\n",
    "import matplotlib.pyplot as plt\n",
    "import numpy as np\n",
    "import random"
   ]
  },
  {
   "cell_type": "code",
   "execution_count": 4,
   "id": "5c07f9dc",
   "metadata": {},
   "outputs": [],
   "source": [
    "model = AbstractModel()\n",
    "model.N = Param(mutable=True)\n",
    "model.i = RangeSet(1, model.N)\n",
    "model.j = Set(initialize=model.i)\n",
    "model.a = Param(mutable=True)\n",
    "model.b = Param(mutable=True)\n",
    "\n",
    "def initval(model, i):\n",
    "    return random.uniform(0,1)\n",
    "\n",
    "model.x = Var(model.i, bounds=(0,model.b), within=NonNegativeReals, initialize= initval)\n",
    "model.y = Var(model.i, bounds=(0,model.a), within=NonNegativeReals, initialize= initval)\n",
    "model.r = Var(within=NonNegativeReals)\n",
    "\n",
    "def C1_rule(model,i,j):\n",
    "    if i!=j:\n",
    "        return (model.x[i]-model.x[j])**2 + (model.y[i] - model.y[j])**2 >= model.r**2\n",
    "    else:\n",
    "        return Constraint.Skip\n",
    "model.C1 = Constraint(model.i, model.j, rule=C1_rule)\n",
    "\n",
    "def C2_rule(model,i):\n",
    "    return -model.a/model.b*model.x[i] + model.a >= model.y[i]\n",
    "model.C2 = Constraint(model.i, rule=C2_rule)\n",
    "\n",
    "model.obj = Objective(expr = model.r, sense=maximize)\n",
    "opt = SolverFactory('ipopt')\n",
    "#instance.display()"
   ]
  },
  {
   "cell_type": "code",
   "execution_count": 5,
   "id": "df4c1e26",
   "metadata": {},
   "outputs": [
    {
     "name": "stdout",
     "output_type": "stream",
     "text": [
      "WARNING: Constructing RangeSet 'i' from non-constant data (e.g., Var or\n",
      "    mutable Param).  The linkage between this RangeSet and the original source\n",
      "    data will be broken, so updating the data value in the future will not be\n",
      "    reflected in this RangeSet.  To suppress this warning, explicitly convert\n",
      "    the source data to a constant type (e.g., float, int, or immutable Param)\n"
     ]
    }
   ],
   "source": [
    "#instance = model.create_instance(\"Ex22.dat\")\n",
    "model.a = 1\n",
    "model.b = 2\n",
    "model.N = 50\n",
    "instance = model.create_instance()\n",
    "results = opt.solve(instance) # solves and updates instance"
   ]
  },
  {
   "cell_type": "code",
   "execution_count": 6,
   "id": "b6e47619",
   "metadata": {},
   "outputs": [
    {
     "name": "stdout",
     "output_type": "stream",
     "text": [
      "Min distance is  0.17\n"
     ]
    },
    {
     "data": {
      "image/png": "[encoded data removed]",
      "text/plain": [
       "<Figure size 432x288 with 1 Axes>"
      ]
     },
     "metadata": {
      "needs_background": "light"
     },
     "output_type": "display_data"
    }
   ],
   "source": [
    "X = [value(instance.x[i]) for i in instance.i]\n",
    "Y = [value(instance.y[i]) for i in instance.i]\n",
    "plt.scatter(X, Y, s=25, color='red')\n",
    "plt.xlabel('X')\n",
    "plt.ylabel('Y')\n",
    "plt.title('Hostile brothers for n=' + str(value(instance.N)))\n",
    "print('Min distance is ', round(value(instance.r), 3))"
   ]
  },
  {
   "cell_type": "code",
   "execution_count": null,
   "id": "7801fca4",
   "metadata": {},
   "outputs": [],
   "source": []
  }
 ],
 "metadata": {
  "kernelspec": {
   "display_name": "Python 3 (ipykernel)",
   "language": "python",
   "name": "python3"
  },
  "language_info": {
   "codemirror_mode": {
    "name": "ipython",
    "version": 3
   },
   "file_extension": ".py",
   "mimetype": "text/x-python",
   "name": "python",
   "nbconvert_exporter": "python",
   "pygments_lexer": "ipython3",
   "version": "3.9.7"
  }
 },
 "nbformat": 4,
 "nbformat_minor": 5
}
