{
 "cells": [
  {
   "cell_type": "code",
   "execution_count": 1,
   "id": "37195941-6f41-43df-8a48-8ca1bd942e86",
   "metadata": {},
   "outputs": [],
   "source": [
    "#What is the maximum volume of a cylinder inside a sphere?\n",
    "#max(r,h) J = 2*pi*(r^2)*h (One above and one below x-axis) \n",
    "#such that:\n",
    "#          r^2 + h^2 = R^2\n",
    "#          0 <= r <= R\n",
    "#          0 <= h <= R"
   ]
  },
  {
   "cell_type": "code",
   "execution_count": 2,
   "id": "af58f7fb-cf11-49c8-9577-9f0d0fb95c28",
   "metadata": {},
   "outputs": [],
   "source": [
    "from pyomo.environ import *\n",
    "import numpy as np"
   ]
  },
  {
   "cell_type": "code",
   "execution_count": 3,
   "id": "6041f178-b3d3-42fd-9a5b-516504ef0182",
   "metadata": {},
   "outputs": [],
   "source": [
    "model = ConcreteModel()\n",
    "model.R = Param(initialize=1)\n",
    "model.h = Var(bounds=(0, model.R), initialize=model.R)\n",
    "model.r = Var(bounds=(0, model.R), initialize=model.R)\n",
    "model.C = Constraint(expr=model.r**2+model.h**2==model.R**2)\n",
    "model.J = Objective(expr=2*np.pi*(model.r**2)*model.h, sense=maximize)"
   ]
  },
  {
   "cell_type": "code",
   "execution_count": 4,
   "id": "d622adab-427c-463d-a520-ff9c515e285a",
   "metadata": {},
   "outputs": [],
   "source": [
    "solver=SolverFactory('ipopt')\n",
    "results=solver.solve(model);"
   ]
  },
  {
   "cell_type": "code",
   "execution_count": 5,
   "id": "c68a50b2-5fb1-4455-b467-5b5646fd50f3",
   "metadata": {},
   "outputs": [
    {
     "name": "stdout",
     "output_type": "stream",
     "text": [
      "r=  0.82\n",
      "h=  0.58\n",
      "j=  2.42\n"
     ]
    }
   ],
   "source": [
    "print('r= ', round(value(model.r), 2))\n",
    "print('h= ', round(value(model.h), 2))\n",
    "print('j= ', round(value(model.J), 2))"
   ]
  },
  {
   "cell_type": "code",
   "execution_count": 6,
   "id": "276908e7-de2e-4ceb-9240-978c22b8c27a",
   "metadata": {},
   "outputs": [
    {
     "name": "stdout",
     "output_type": "stream",
     "text": [
      "r=  0.8164965807359517\n"
     ]
    }
   ],
   "source": [
    "print('r= ', value(model.r))"
   ]
  },
  {
   "cell_type": "code",
   "execution_count": null,
   "id": "a608daef-f13c-4861-940e-69c8e37f07ef",
   "metadata": {},
   "outputs": [],
   "source": []
  }
 ],
 "metadata": {
  "kernelspec": {
   "display_name": "Python 3 (ipykernel)",
   "language": "python",
   "name": "python3"
  },
  "language_info": {
   "codemirror_mode": {
    "name": "ipython",
    "version": 3
   },
   "file_extension": ".py",
   "mimetype": "text/x-python",
   "name": "python",
   "nbconvert_exporter": "python",
   "pygments_lexer": "ipython3",
   "version": "3.9.7"
  }
 },
 "nbformat": 4,
 "nbformat_minor": 5
}
