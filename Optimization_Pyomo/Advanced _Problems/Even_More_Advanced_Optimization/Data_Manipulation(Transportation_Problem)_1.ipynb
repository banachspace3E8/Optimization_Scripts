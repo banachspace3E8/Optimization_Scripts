{
 "cells": [
  {
   "cell_type": "code",
   "execution_count": 1,
   "id": "19de7d2b",
   "metadata": {},
   "outputs": [],
   "source": [
    "#Part-1: Transportation Problem(Read dat File)"
   ]
  },
  {
   "cell_type": "code",
   "execution_count": null,
   "id": "78818679-7a46-4096-80f2-f3bf744f689b",
   "metadata": {},
   "outputs": [],
   "source": [
    "from pyomo.environ import *\n",
    "import matplotlib.pyplot as plt\n",
    "import numpy as np\n",
    "import random"
   ]
  },
  {
   "cell_type": "code",
   "execution_count": 3,
   "id": "3a480243",
   "metadata": {},
   "outputs": [],
   "source": [
    "model = AbstractModel()\n",
    "model.i = Set()\n",
    "model.j = Set()\n",
    "model.Demand = Param(model.j)\n",
    "model.pmin = Param(model.i)\n",
    "model.pmax = Param(model.i)\n",
    "model.Cost = Param(model.i)\n",
    "model.distance = Param(model.i, model.j, within=Reals)\n",
    "\n",
    "model.x = Var(model.i, model.j, bounds=(0,300), within=Reals)\n",
    "model.OF = Var(within=Reals)\n",
    "\n",
    "def Pbounds(model, i):\n",
    "    return (model.pmin[i], model.pmax[i])\n",
    "model.P = Var(model.i, bounds=Pbounds, domain=Reals)\n",
    "\n",
    "def rule_C1(model, i):\n",
    "    return sum(model.x[i,j] for j in model.j) == model.P[i]\n",
    "model.C1 = Constraint(model.i, rule=rule_C1)\n",
    "\n",
    "def rule_C2(model, j):\n",
    "    return sum(model.x[i,j] for i in model.i) >= model.Demand[j]\n",
    "model.C2 = Constraint(model.j,rule = rule_C2)\n",
    "\n",
    "def rule_OF(model):\n",
    "    return model.OF == sum(model.P[i]*model.Cost[i] for i in model.i) + sum(model.x[i,j]*model.distance[i,j] for i in model.i for j in model.j)\n",
    "model.C3 = Constraint(rule=rule_OF)\n",
    "\n",
    "model.obj1 = Objective(expr=model.OF, sense=minimize)"
   ]
  },
  {
   "cell_type": "code",
   "execution_count": 4,
   "id": "d3db5d41",
   "metadata": {},
   "outputs": [
    {
     "name": "stdout",
     "output_type": "stream",
     "text": [
      "OF=  10730.0\n"
     ]
    }
   ],
   "source": [
    "opt = SolverFactory('glpk')\n",
    "instance = model.create_instance(\"DataManTransportProblem.dat\")\n",
    "results = opt.solve(instance) #solves and updates instance\n",
    "print('OF= ', value(instance.OF))"
   ]
  },
  {
   "cell_type": "code",
   "execution_count": 6,
   "id": "188e5044",
   "metadata": {},
   "outputs": [
    {
     "name": "stdout",
     "output_type": "stream",
     "text": [
      "300.0 0 900\n",
      "(1, 1) 0.0\n",
      "(1, 2) 0.0\n",
      "(1, 3) 300.0\n",
      "(1, 4) 0.0\n",
      "620.0 10 850\n",
      "(2, 1) 210.0\n",
      "(2, 2) 170.0\n",
      "(2, 3) 120.0\n",
      "(2, 4) 120.0\n",
      "20.0 20 750\n",
      "(3, 1) 0.0\n",
      "(3, 2) 20.0\n",
      "(3, 3) 0.0\n",
      "(3, 4) 0.0\n"
     ]
    }
   ],
   "source": [
    "for i in instance.i:\n",
    "    print(value(instance.P[i]), value(instance.pmin[i]), value(instance.pmax[i]))\n",
    "    for j in instance.j:\n",
    "        print((i,j), value(instance.x[i,j]))"
   ]
  },
  {
   "cell_type": "code",
   "execution_count": null,
   "id": "9fca13a0",
   "metadata": {},
   "outputs": [],
   "source": []
  }
 ],
 "metadata": {
  "kernelspec": {
   "display_name": "Python 3 (ipykernel)",
   "language": "python",
   "name": "python3"
  },
  "language_info": {
   "codemirror_mode": {
    "name": "ipython",
    "version": 3
   },
   "file_extension": ".py",
   "mimetype": "text/x-python",
   "name": "python",
   "nbconvert_exporter": "python",
   "pygments_lexer": "ipython3",
   "version": "3.9.7"
  }
 },
 "nbformat": 4,
 "nbformat_minor": 5
}
