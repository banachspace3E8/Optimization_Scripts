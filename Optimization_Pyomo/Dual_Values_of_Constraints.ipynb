{
 "cells": [
  {
   "cell_type": "code",
   "execution_count": 1,
   "id": "5c5cc4bb-5dad-4be6-91fe-28459b158634",
   "metadata": {},
   "outputs": [],
   "source": [
    "#How to access dual values of a constraint?"
   ]
  },
  {
   "cell_type": "code",
   "execution_count": 2,
   "id": "9dba2417-2178-4ac8-8eb2-b2e3502b6e53",
   "metadata": {},
   "outputs": [],
   "source": [
    "from pyomo.environ import *\n",
    "import numpy as np\n",
    "model = AbstractModel()\n",
    "model.N = Set()\n",
    "model.M = Set()\n",
    "model.c = Param(model.N)\n",
    "model.a = Param(model.M, model.N)\n",
    "model.b = Param(model.M)\n",
    "model.x = Var(model.N, within=NonNegativeReals)\n",
    "\n",
    "def con_rule(model, m):\n",
    "    return sum(model.a[m,i]*model.x[i] for i in model.N) >= model.b[m]\n",
    "model.con = Constraint(model.M, rule=con_rule)\n",
    "\n",
    "def obj_rule(model):\n",
    "    return sum(model.c[i]*model.x[i] for i in model.N)\n",
    "\n",
    "model.OF = Objective(rule=obj_rule, sense=minimize)\n",
    "model.dual = Suffix(direction=Suffix.IMPORT)"
   ]
  },
  {
   "cell_type": "code",
   "execution_count": 4,
   "id": "d549f039-e8f2-453f-8046-d74c6d346963",
   "metadata": {},
   "outputs": [],
   "source": [
    "opt = SolverFactory('glpk')\n",
    "instance = model.create_instance(\"ExMat.dat\")\n",
    "results = opt.solve(instance)"
   ]
  },
  {
   "cell_type": "code",
   "execution_count": 5,
   "id": "5b3d4575-c03a-45b5-b073-e8cec47bfe80",
   "metadata": {},
   "outputs": [
    {
     "name": "stdout",
     "output_type": "stream",
     "text": [
      "2.33333333333333\n",
      "0.0\n"
     ]
    }
   ],
   "source": [
    "for m in instance.M:\n",
    "    print(instance.dual[instance.con[m]])"
   ]
  },
  {
   "cell_type": "code",
   "execution_count": null,
   "id": "6a6d73d6-4cb7-4b7b-8b54-3dee4ce93520",
   "metadata": {},
   "outputs": [],
   "source": []
  }
 ],
 "metadata": {
  "kernelspec": {
   "display_name": "Python 3 (ipykernel)",
   "language": "python",
   "name": "python3"
  },
  "language_info": {
   "codemirror_mode": {
    "name": "ipython",
    "version": 3
   },
   "file_extension": ".py",
   "mimetype": "text/x-python",
   "name": "python",
   "nbconvert_exporter": "python",
   "pygments_lexer": "ipython3",
   "version": "3.9.7"
  }
 },
 "nbformat": 4,
 "nbformat_minor": 5
}
