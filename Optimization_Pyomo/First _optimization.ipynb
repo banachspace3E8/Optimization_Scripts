{
 "cells": [
  {
   "cell_type": "code",
   "execution_count": 1,
   "id": "3030a7b2-632c-40e2-98d5-96fc3950cb73",
   "metadata": {},
   "outputs": [],
   "source": [
    "#Concrete Model solution example\n",
    "from pyomo.environ import *\n",
    "import matplotlib.pyplot as plt\n",
    "import numpy as np\n",
    "import random"
   ]
  },
  {
   "cell_type": "code",
   "execution_count": 2,
   "id": "9c604f7f-10fb-4a0c-be61-c741e25249c2",
   "metadata": {},
   "outputs": [],
   "source": [
    "#Max J = 3x1 + x2\n",
    "#Subject to:\n",
    "#           2x1 + 3x2 <= 4\n",
    "#           9x1 + 1x2 <= 6\n",
    "#           x1, x2 >= 0\n",
    "model = AbstractModel()\n",
    "#bounds=(lowerbound, upperbound)\n",
    "model.x1 = Var(bounds=(0,4), within=NonNegativeReals )\n",
    "model.x2 = Var(bounds=(0,4), within=NonNegativeReals )\n",
    "model.eq1 = Constraint(expr=2*model.x1+3*model.x2<=4)\n",
    "model.eq2 = Constraint(expr=9*model.x1+1*model.x2<=6)\n",
    "\n",
    "model.obj = Objective(expr=3*model.x1+model.x2, sense=maximize)"
   ]
  },
  {
   "cell_type": "code",
   "execution_count": 11,
   "id": "0c1d6801-06b4-4b09-bcf2-cb92ff018200",
   "metadata": {},
   "outputs": [
    {
     "name": "stdout",
     "output_type": "stream",
     "text": [
      "feasible\n"
     ]
    }
   ],
   "source": [
    "opt = SolverFactory('glpk')\n",
    "instance = model.create_instance()\n",
    "results = opt.solve(instance) #solves and updates instance\n",
    "\n",
    "if (results.solver.status == SolverStatus.ok) and (results.solver.termination_condition == TerminationCondition.optimal):\n",
    "    print('feasible')\n",
    "elif (results.solver.termination_condition == TerminationCondition.infeasible):\n",
    "    print('infeasible')\n",
    "else:\n",
    "    print('Solver Status:', results.solver.status)"
   ]
  },
  {
   "cell_type": "code",
   "execution_count": 14,
   "id": "ee2f500a-d12b-42b6-a932-54ee1201a14a",
   "metadata": {},
   "outputs": [
    {
     "name": "stdout",
     "output_type": "stream",
     "text": [
      "eq1 : Size=1, Index=None, Active=True\n",
      "    Key  : Lower : Body        : Upper : Active\n",
      "    None :  -Inf : 2*x1 + 3*x2 :   4.0 :   True\n",
      "eq2 : Size=1, Index=None, Active=True\n",
      "    Key  : Lower : Body      : Upper : Active\n",
      "    None :  -Inf : 9*x1 + x2 :   6.0 :   True\n"
     ]
    }
   ],
   "source": [
    "instance.eq1.pprint()\n",
    "instance.eq2.pprint()"
   ]
  },
  {
   "cell_type": "code",
   "execution_count": 16,
   "id": "e3a26ffe-02b7-42f2-a6ba-59892e5e392f",
   "metadata": {},
   "outputs": [
    {
     "name": "stdout",
     "output_type": "stream",
     "text": [
      "X1=  0.56\n",
      "X2=  0.96\n",
      "J=  2.64\n"
     ]
    }
   ],
   "source": [
    "print('X1= ', value(instance.x1))\n",
    "print('X2= ', value(instance.x2))\n",
    "print('J= ', value(instance.obj))"
   ]
  },
  {
   "cell_type": "code",
   "execution_count": null,
   "id": "68634ebc-07a0-4af4-9c04-7561c0b59403",
   "metadata": {},
   "outputs": [],
   "source": []
  }
 ],
 "metadata": {
  "kernelspec": {
   "display_name": "Python 3 (ipykernel)",
   "language": "python",
   "name": "python3"
  },
  "language_info": {
   "codemirror_mode": {
    "name": "ipython",
    "version": 3
   },
   "file_extension": ".py",
   "mimetype": "text/x-python",
   "name": "python",
   "nbconvert_exporter": "python",
   "pygments_lexer": "ipython3",
   "version": "3.9.7"
  }
 },
 "nbformat": 4,
 "nbformat_minor": 5
}
