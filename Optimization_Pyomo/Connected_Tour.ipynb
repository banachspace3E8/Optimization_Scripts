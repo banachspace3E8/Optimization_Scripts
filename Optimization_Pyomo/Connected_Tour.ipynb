{
 "cells": [
  {
   "cell_type": "code",
   "execution_count": 1,
   "id": "fcaa139a-d99e-417c-9b70-5a47cf68de3e",
   "metadata": {},
   "outputs": [],
   "source": [
    "#Find the tour strating from first node with min distance\n",
    "#TSP Problem\n",
    "#min J = sum over i,j (U(i,j)*D(i,j))\n",
    "#such that:\n",
    "#          for all i: Gi - Li = sum over j(Flow(i,j))\n",
    "#          Flow(i,j) <= U(i,j)* M\n",
    "#          sum over c (U(i,c)) = 1\n",
    "#          sum over c (U(c,i)) = 1"
   ]
  },
  {
   "cell_type": "code",
   "execution_count": 2,
   "id": "3e8dbb10-647c-46cb-8768-edc20ea1db5d",
   "metadata": {},
   "outputs": [],
   "source": [
    "from pyomo.environ import *\n",
    "import matplotlib.pyplot as plt\n",
    "import numpy as np\n",
    "import random"
   ]
  },
  {
   "cell_type": "code",
   "execution_count": 13,
   "id": "768375ae-84f5-4bb6-b7fc-0bbe878c7e5a",
   "metadata": {},
   "outputs": [],
   "source": [
    "model = AbstractModel()\n",
    "model.N = Param(mutable = True, default=20)\n",
    "#i represents a set containing all the nodes 1, N\n",
    "model.i = RangeSet(1, model.N)\n",
    "#j is alias of i\n",
    "model.j = Set(initialize=model.i)\n",
    "#U indicates whether node i is connected to node j\n",
    "model.U = Var(model.i, model.j, within=Binary)\n",
    "\n",
    "model.flow = Var(model.i, model.j, within=NonNegativeReals)\n",
    "#G represents starting node(production/generation)\n",
    "model.G = Var(bounds=(0, model.N), within=NonNegativeReals)\n",
    "model.OF = Var(bounds=(0,model.N), within=NonNegativeReals)\n",
    "\n",
    "def initval(model, i):\n",
    "    return random.uniform(0, 1)\n",
    "\n",
    "model.Xloc = Param(model.i, within=NonNegativeReals, initialize=initval, mutable=True)\n",
    "model.Yloc = Param(model.i, within=NonNegativeReals, initialize=initval, mutable=True)\n",
    "\n",
    "def Rule_D(model, i, j):\n",
    "    return sqrt((model.Xloc[i] - model.Xloc[j])**2 + (model.Yloc[i] - model.Yloc[j])**2)#(Eucledian Distance)\n",
    "#Distance between each pair of nodes\n",
    "model.D = Param(model.i, model.j, within=NonNegativeReals, initialize=Rule_D, mutable=True)\n",
    "\n",
    "#Balance equation\n",
    "def rule_C1(model, i):\n",
    "    if i==1:\n",
    "        return model.G-i/model.N == sum(model.flow[i,j]-model.flow[j,i] if i!=j else 0 for j in model.j)\n",
    "    else:\n",
    "        return -i/model.N == sum(model.flow[i,j]-model.flow[j,i] if i!=j else 0 for j in model.j)\n",
    "model.C1 = Constraint(model.i, rule=rule_C1)\n",
    "\n",
    "def rule_C2(model,i, j):\n",
    "    if i !=j:\n",
    "        return model.flow[j,i] <= model.U[i,j]*model.N\n",
    "    else:\n",
    "        return Constraint.Skip\n",
    "model.C2 = Constraint(model.i, model.j, rule=rule_C2)\n",
    "\n",
    "#There should be only one outgoing edge\n",
    "def rule_C3(model,i):\n",
    "    return sum(model.U[i,j] if i!=j else 0 for j in model.j) == 1\n",
    "model.C3 = Constraint(model.i, rule=rule_C3)\n",
    "\n",
    "#There shound be only one incoming edge\n",
    "def rule_C4(model,j):\n",
    "    return sum(model.U[i,j] if i!=j else 0 for i in model.i) == 1\n",
    "model.C4 = Constraint(model.i, rule=rule_C4)\n",
    "\n",
    "def rule_OF(model):\n",
    "    return model.OF == sum(model.U[r,c]*model.D[r,c] if r!=c else 0 for r in model.i for c in model.j)\n",
    "model.C = Constraint(rule=rule_OF)\n",
    "\n",
    "model.obj1 = Objective(expr=model.OF, sense=minimize)"
   ]
  },
  {
   "cell_type": "code",
   "execution_count": 14,
   "id": "05867ddf-bda9-4456-b6f7-3a54e186e771",
   "metadata": {},
   "outputs": [],
   "source": [
    "opt = SolverFactory('glpk')"
   ]
  },
  {
   "cell_type": "code",
   "execution_count": 15,
   "id": "11f1b03d-fd94-4dee-8c5d-dfe5eb22b13e",
   "metadata": {},
   "outputs": [
    {
     "name": "stdout",
     "output_type": "stream",
     "text": [
      "WARNING: Constructing RangeSet 'i' from non-constant data (e.g., Var or\n",
      "    mutable Param).  The linkage between this RangeSet and the original source\n",
      "    data will be broken, so updating the data value in the future will not be\n",
      "    reflected in this RangeSet.  To suppress this warning, explicitly convert\n",
      "    the source data to a constant type (e.g., float, int, or immutable Param)\n",
      "OF=  3.75529095320318\n"
     ]
    }
   ],
   "source": [
    "model.N =20\n",
    "instance = model.create_instance()\n",
    "results = opt.solve(instance) #solves and updates instance\n",
    "print('OF= ', value(instance.obj1))"
   ]
  },
  {
   "cell_type": "code",
   "execution_count": 17,
   "id": "a52b73a8-7907-4ac4-b1e5-6314f5cca848",
   "metadata": {},
   "outputs": [
    {
     "data": {
      "image/png": "[encoded data removed]",
      "text/plain": [
       "<Figure size 504x432 with 1 Axes>"
      ]
     },
     "metadata": {
      "needs_background": "light"
     },
     "output_type": "display_data"
    }
   ],
   "source": [
    "fig = plt.figure(figsize=(7,6))\n",
    "for i in instance.i:\n",
    "    plt.scatter(value(instance.Xloc[i]), value(instance.Yloc[i]), label=str(i))\n",
    "    plt.text(value(instance.Xloc[i]), 0.02+value(instance.Yloc[i]), str(i), fontsize=8)\n",
    "#plt.legend()\n",
    "for i in instance.i:\n",
    "    for j in instance.j:\n",
    "        if i!=j:\n",
    "            if value(instance.U[i,j]) == 1:\n",
    "                plt.plot([value(instance.Xloc[i]), value(instance.Xloc[j])],[value(instance.Yloc[i]),value(instance.Yloc[j])])"
   ]
  },
  {
   "cell_type": "code",
   "execution_count": null,
   "id": "4223c71e-3c9f-443e-8a99-434d47389c9b",
   "metadata": {},
   "outputs": [],
   "source": []
  }
 ],
 "metadata": {
  "kernelspec": {
   "display_name": "Python 3 (ipykernel)",
   "language": "python",
   "name": "python3"
  },
  "language_info": {
   "codemirror_mode": {
    "name": "ipython",
    "version": 3
   },
   "file_extension": ".py",
   "mimetype": "text/x-python",
   "name": "python",
   "nbconvert_exporter": "python",
   "pygments_lexer": "ipython3",
   "version": "3.9.7"
  }
 },
 "nbformat": 4,
 "nbformat_minor": 5
}
