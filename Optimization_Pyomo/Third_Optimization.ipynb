{
 "cells": [
  {
   "cell_type": "code",
   "execution_count": 6,
   "id": "3a679c6b-42d1-4955-8a38-d6452b2a33cf",
   "metadata": {},
   "outputs": [],
   "source": [
    "from pyomo.environ import *"
   ]
  },
  {
   "cell_type": "code",
   "execution_count": 7,
   "id": "3af9bc93-c6ac-4bd8-a4f2-0e26d2d5a2ee",
   "metadata": {},
   "outputs": [],
   "source": [
    "#Max J = 2x1 + 3x2\n",
    "#Subject to:\n",
    "#           x1 + 2x2 <= 8\n",
    "#           4x1 - x2 <= 2\n",
    "#           x1, x2 >= 0\n",
    "model = AbstractModel()\n",
    "#bounds=(lowerbound, upperbound)\n",
    "model.x1 = Var(bounds=(0,100), within=NonNegativeReals )\n",
    "model.x2 = Var(bounds=(0,100), within=NonNegativeReals )\n",
    "model.con1 = Constraint(expr=model.x1+2*model.x2<=8)\n",
    "model.con2 = Constraint(expr=4*model.x1-1*model.x2<=2)\n",
    "def obj_rule(model):\n",
    "    return 2*model.x1+3*model.x2\n",
    "model.OF = Objective(rule=obj_rule, sense=maximize)"
   ]
  },
  {
   "cell_type": "code",
   "execution_count": 8,
   "id": "2320f65b-46a7-4235-b0b0-2d1afb96b6d8",
   "metadata": {},
   "outputs": [
    {
     "name": "stdout",
     "output_type": "stream",
     "text": [
      "feasible\n"
     ]
    }
   ],
   "source": [
    "opt = SolverFactory('glpk')\n",
    "instance = model.create_instance()\n",
    "results = opt.solve(instance) #solves and updates instance\n",
    "\n",
    "if (results.solver.status == SolverStatus.ok) and (results.solver.termination_condition == TerminationCondition.optimal):\n",
    "    print('feasible')\n",
    "elif (results.solver.termination_condition == TerminationCondition.infeasible):\n",
    "    print('infeasible')\n",
    "else:\n",
    "    print('Solver Status:', results.solver.status)"
   ]
  },
  {
   "cell_type": "code",
   "execution_count": 4,
   "id": "fa6a4fc5-0c19-415d-a8ff-c6a534f3dfd7",
   "metadata": {},
   "outputs": [
    {
     "name": "stdout",
     "output_type": "stream",
     "text": [
      "eq1 : Size=1, Index=None, Active=True\n",
      "    Key  : Lower : Body          : Upper : Active\n",
      "    None :  -Inf : a11*x1 + 3*x2 :   4.0 :   True\n",
      "eq2 : Size=1, Index=None, Active=True\n",
      "    Key  : Lower : Body      : Upper : Active\n",
      "    None :  -Inf : 9*x1 + x2 :   6.0 :   True\n"
     ]
    }
   ],
   "source": [
    "instance.eq1.pprint()\n",
    "instance.eq2.pprint()"
   ]
  },
  {
   "cell_type": "code",
   "execution_count": 9,
   "id": "0c9c12ee-72af-4e0b-a896-796b393ba22d",
   "metadata": {},
   "outputs": [
    {
     "name": "stdout",
     "output_type": "stream",
     "text": [
      "X1=  1.33\n",
      "X2=  3.33\n",
      "J=  12.67\n"
     ]
    }
   ],
   "source": [
    "print('X1= ', round(value(instance.x1),2))\n",
    "print('X2= ', round(value(instance.x2),2))\n",
    "print('J= ', round(value(instance.OF),2))"
   ]
  },
  {
   "cell_type": "code",
   "execution_count": 11,
   "id": "5dee9025-d986-41a4-9cc2-7f7c0933a11d",
   "metadata": {},
   "outputs": [
    {
     "name": "stdout",
     "output_type": "stream",
     "text": [
      "2 Var Declarations\n",
      "    x1 : Size=1, Index=None\n",
      "        Key  : Lower : Value            : Upper : Fixed : Stale : Domain\n",
      "        None :     0 : 1.33333333333333 :   100 : False : False : NonNegativeReals\n",
      "    x2 : Size=1, Index=None\n",
      "        Key  : Lower : Value            : Upper : Fixed : Stale : Domain\n",
      "        None :     0 : 3.33333333333333 :   100 : False : False : NonNegativeReals\n",
      "\n",
      "1 Objective Declarations\n",
      "    OF : Size=1, Index=None, Active=True\n",
      "        Key  : Active : Sense    : Expression\n",
      "        None :   True : maximize : 2*x1 + 3*x2\n",
      "\n",
      "2 Constraint Declarations\n",
      "    con1 : Size=1, Index=None, Active=True\n",
      "        Key  : Lower : Body      : Upper : Active\n",
      "        None :  -Inf : x1 + 2*x2 :   8.0 :   True\n",
      "    con2 : Size=1, Index=None, Active=True\n",
      "        Key  : Lower : Body      : Upper : Active\n",
      "        None :  -Inf : 4*x1 - x2 :   2.0 :   True\n",
      "\n",
      "5 Declarations: x1 x2 con1 con2 OF\n"
     ]
    }
   ],
   "source": [
    "#look at constructed model, variables and constraints\n",
    "instance.pprint()"
   ]
  },
  {
   "cell_type": "code",
   "execution_count": 12,
   "id": "887a1220-e7de-4cc1-8f47-0f65aed24626",
   "metadata": {},
   "outputs": [
    {
     "name": "stdout",
     "output_type": "stream",
     "text": [
      "# ==========================================================\n",
      "# = Solver Results                                         =\n",
      "# ==========================================================\n",
      "# ----------------------------------------------------------\n",
      "#   Problem Information\n",
      "# ----------------------------------------------------------\n",
      "Problem: \n",
      "- Name: unknown\n",
      "  Lower bound: 12.6666666666667\n",
      "  Upper bound: 12.6666666666667\n",
      "  Number of objectives: 1\n",
      "  Number of constraints: 3\n",
      "  Number of variables: 3\n",
      "  Number of nonzeros: 5\n",
      "  Sense: maximize\n",
      "# ----------------------------------------------------------\n",
      "#   Solver Information\n",
      "# ----------------------------------------------------------\n",
      "Solver: \n",
      "- Status: ok\n",
      "  Termination condition: optimal\n",
      "  Statistics: \n",
      "    Branch and bound: \n",
      "      Number of bounded subproblems: 0\n",
      "      Number of created subproblems: 0\n",
      "  Error rc: 0\n",
      "  Time: 0.03283095359802246\n",
      "# ----------------------------------------------------------\n",
      "#   Solution Information\n",
      "# ----------------------------------------------------------\n",
      "Solution: \n",
      "- number of solutions: 0\n",
      "  number of solutions displayed: 0\n"
     ]
    }
   ],
   "source": [
    "results.write()"
   ]
  },
  {
   "cell_type": "code",
   "execution_count": null,
   "id": "b86879c5-4f5d-4a62-bbd6-9fd19373545b",
   "metadata": {},
   "outputs": [],
   "source": []
  }
 ],
 "metadata": {
  "kernelspec": {
   "display_name": "Python 3 (ipykernel)",
   "language": "python",
   "name": "python3"
  },
  "language_info": {
   "codemirror_mode": {
    "name": "ipython",
    "version": 3
   },
   "file_extension": ".py",
   "mimetype": "text/x-python",
   "name": "python",
   "nbconvert_exporter": "python",
   "pygments_lexer": "ipython3",
   "version": "3.9.7"
  }
 },
 "nbformat": 4,
 "nbformat_minor": 5
}
