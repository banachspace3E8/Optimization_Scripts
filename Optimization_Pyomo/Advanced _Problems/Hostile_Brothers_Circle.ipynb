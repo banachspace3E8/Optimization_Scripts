{
 "cells": [
  {
   "cell_type": "code",
   "execution_count": 21,
   "id": "8e2db36e-2d59-48a6-9cec-39adbe5794bb",
   "metadata": {},
   "outputs": [],
   "source": [
    "#Find the locations of N brothers in a circle in a way \n",
    "#that the minimum distance between each pair of brothers is maximum\n",
    "#maximize(xi,yi) j = r\n",
    "#such that:\n",
    "#          (xi - xj)^2 + (yi - yj)^2 >= r^2\n",
    "#          (xi - R)^2 + (yi - R)^2 <= R^2"
   ]
  },
  {
   "cell_type": "code",
   "execution_count": 22,
   "id": "19297965",
   "metadata": {},
   "outputs": [],
   "source": [
    "from pyomo.environ import *\n",
    "import matplotlib.pyplot as plt\n",
    "import numpy as np\n",
    "import random"
   ]
  },
  {
   "cell_type": "code",
   "execution_count": 23,
   "id": "b68f0127",
   "metadata": {},
   "outputs": [],
   "source": [
    "model = AbstractModel()\n",
    "model.N = Param(mutable=True)\n",
    "model.i = RangeSet(1, model.N)\n",
    "model.j = Set(initialize=model.i)\n",
    "model.R = Param(mutable=True)\n",
    "\n",
    "def initval(model, i):\n",
    "    return random.uniform(0,1)\n",
    "\n",
    "model.x = Var(model.i, bounds=(0,2*model.R), within=NonNegativeReals, initialize= initval)\n",
    "model.y = Var(model.i, bounds=(0,2*model.R), within=NonNegativeReals, initialize= initval)\n",
    "model.r = Var(within=NonNegativeReals)\n",
    "\n",
    "def C1_rule(model,i,j):\n",
    "    if i!=j:\n",
    "        return (model.x[i]-model.x[j])**2 + (model.y[i] - model.y[j])**2 >= model.r**2\n",
    "    else:\n",
    "        return Constraint.Skip\n",
    "model.C1 = Constraint(model.i, model.j, rule=C1_rule)\n",
    "\n",
    "def C2_rule(model,i):\n",
    "    return (model.x[i] - model.R)**2 + (model.y[i] - model.R)**2 <= model.R**2\n",
    "model.C2 = Constraint(model.i, rule=C2_rule)\n",
    "\n",
    "model.obj = Objective(expr = model.r, sense=maximize)\n",
    "opt = SolverFactory('ipopt')\n",
    "#instance.display()"
   ]
  },
  {
   "cell_type": "code",
   "execution_count": 24,
   "id": "6b4f6603",
   "metadata": {},
   "outputs": [
    {
     "name": "stdout",
     "output_type": "stream",
     "text": [
      "WARNING: Constructing RangeSet 'i' from non-constant data (e.g., Var or\n",
      "    mutable Param).  The linkage between this RangeSet and the original source\n",
      "    data will be broken, so updating the data value in the future will not be\n",
      "    reflected in this RangeSet.  To suppress this warning, explicitly convert\n",
      "    the source data to a constant type (e.g., float, int, or immutable Param)\n"
     ]
    }
   ],
   "source": [
    "#instance = model.create_instance(\"Ex22.dat\")\n",
    "model.R = 1\n",
    "model.N = 20\n",
    "instance = model.create_instance()\n",
    "results = opt.solve(instance) # solves and updates instance"
   ]
  },
  {
   "cell_type": "code",
   "execution_count": 25,
   "id": "f0b46a3e",
   "metadata": {},
   "outputs": [
    {
     "name": "stdout",
     "output_type": "stream",
     "text": [
      "Min distance is  0.485\n"
     ]
    },
    {
     "data": {
      "image/png": "[encoded data removed]",
      "text/plain": [
       "<Figure size 432x288 with 1 Axes>"
      ]
     },
     "metadata": {
      "needs_background": "light"
     },
     "output_type": "display_data"
    }
   ],
   "source": [
    "X = [value(instance.x[i]) for i in instance.i]\n",
    "Y = [value(instance.y[i]) for i in instance.i]\n",
    "plt.scatter(X, Y, s=25, color='red')\n",
    "plt.xlabel('X')\n",
    "plt.ylabel('Y')\n",
    "plt.title('Hostile brothers for n=' + str(value(instance.N)))\n",
    "theta = np.linspace(0, 2*np.pi, 100)\n",
    "Xc = value(instance.R) + value(instance.R)*np.cos(theta)\n",
    "Yc = value(instance.R) + value(instance.R)*np.sin(theta)\n",
    "plt.plot(Xc,Yc, '--', lw=1)\n",
    "print('Min distance is ', round(value(instance.r), 3))"
   ]
  },
  {
   "cell_type": "code",
   "execution_count": null,
   "id": "238f3b03",
   "metadata": {},
   "outputs": [],
   "source": []
  }
 ],
 "metadata": {
  "kernelspec": {
   "display_name": "Python 3 (ipykernel)",
   "language": "python",
   "name": "python3"
  },
  "language_info": {
   "codemirror_mode": {
    "name": "ipython",
    "version": 3
   },
   "file_extension": ".py",
   "mimetype": "text/x-python",
   "name": "python",
   "nbconvert_exporter": "python",
   "pygments_lexer": "ipython3",
   "version": "3.9.7"
  }
 },
 "nbformat": 4,
 "nbformat_minor": 5
}
