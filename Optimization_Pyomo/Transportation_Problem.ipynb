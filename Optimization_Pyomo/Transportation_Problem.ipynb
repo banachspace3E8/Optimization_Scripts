{
 "cells": [
  {
   "cell_type": "code",
   "execution_count": 21,
   "id": "77c72248-30f2-43e7-a104-d3599c35e2cc",
   "metadata": {},
   "outputs": [],
   "source": [
    "# For i factories and j demand points, knowing capacity of each factories and the demand how much should we\n",
    "#produce in each factories to minimize the cost of trransportation?\n",
    "\n",
    "#min(x) J = sum_over_i (x(i,j)*D(i,j)) +  sum_over_j(c(i) * x(i,j))\n",
    "#such that:\n",
    "#          S_min(i) <= sum_over_j (x(i,j)) <= S_max (i)\n",
    "#          for all j: sum_over_i (x(i,j)) >= Demand(j)"
   ]
  },
  {
   "cell_type": "code",
   "execution_count": 11,
   "id": "daa5b4a0-c99e-4a4c-aae8-93292b2cecd5",
   "metadata": {},
   "outputs": [],
   "source": [
    "from pyomo.environ import *\n",
    "import matplotlib.pyplot as plt\n",
    "import numpy as np\n",
    "import random"
   ]
  },
  {
   "cell_type": "code",
   "execution_count": 22,
   "id": "bf0517bb-b392-446c-b774-5f1780bc000e",
   "metadata": {},
   "outputs": [],
   "source": [
    "model = AbstractModel()\n",
    "model.i = Set()\n",
    "model.j = Set()\n",
    "model.Demand = Param(model.j)\n",
    "model.pmin = Param(model.i)\n",
    "model.pmax = Param(model.i)\n",
    "model.Cost = Param(model.i)\n",
    "\n",
    "model.distance = Param(model.i, model.j, within=Reals)\n",
    "\n",
    "model.x = Var(model.i, model.j, bounds=(0,300), within=Reals)\n",
    "model.OF = Var(within=Reals)\n",
    "\n",
    "def Pbounds(model, i):\n",
    "    return (model.pmin[i], model.pmax[i])\n",
    "model.P = Var(model.i, bounds=Pbounds, domain=Reals)\n",
    "\n",
    "def rule_C1(model,i):\n",
    "    return sum(model.x[i,j] for j in model.j) == model.P[i]\n",
    "model.C1 = Constraint(model.i, rule=rule_C1)\n",
    "\n",
    "def rule_C2(model,j):\n",
    "    return sum(model.x[i,j] for i in model.i) >= model.Demand[j]\n",
    "model.C2 = Constraint(model.j, rule=rule_C2)\n",
    "\n",
    "def rule_OF(model):\n",
    "    return model.OF == sum(model.P[i]*model.Cost[i] for i in model.i) + sum(model.x[i,j]*model.distance[i,j] for i in model.i for j in model.j)\n",
    "model.C3 = Constraint(rule=rule_OF)\n",
    "model.obj1 = Objective(expr=model.OF, sense=minimize)"
   ]
  },
  {
   "cell_type": "code",
   "execution_count": 23,
   "id": "ab529805-3443-4341-99c7-f5f083a338d6",
   "metadata": {},
   "outputs": [
    {
     "name": "stdout",
     "output_type": "stream",
     "text": [
      "OF=  10730.0\n"
     ]
    }
   ],
   "source": [
    "opt = SolverFactory('glpk')\n",
    "#parameters defined for i,j and distance\n",
    "instance = model.create_instance(\"TransportationProblem.dat\")\n",
    "results = opt.solve(instance) #solves and updates instance\n",
    "print('OF= ',value(instance.OF))"
   ]
  },
  {
   "cell_type": "code",
   "execution_count": 18,
   "id": "6e7234b8-d0b2-4e5c-aa5c-b57cd5f3bfa6",
   "metadata": {},
   "outputs": [
    {
     "name": "stdout",
     "output_type": "stream",
     "text": [
      "300.0 0 900\n",
      "(1, 1) 0.0\n",
      "(1, 2) 0.0\n",
      "(1, 3) 300.0\n",
      "(1, 4) 0.0\n",
      "620.0 10 850\n",
      "(2, 1) 210.0\n",
      "(2, 2) 170.0\n",
      "(2, 3) 120.0\n",
      "(2, 4) 120.0\n",
      "20.0 20 750\n",
      "(3, 1) 0.0\n",
      "(3, 2) 20.0\n",
      "(3, 3) 0.0\n",
      "(3, 4) 0.0\n"
     ]
    }
   ],
   "source": [
    "for i in instance.i:\n",
    "    print(value(instance.P[i]), value(instance.pmin[i]),value(instance.pmax[i]))\n",
    "    for j in instance.j:\n",
    "        print((i,j), value(instance.x[i,j]))"
   ]
  },
  {
   "cell_type": "code",
   "execution_count": 24,
   "id": "7f8b8b16-b7f8-47e8-ac4a-4c229a389105",
   "metadata": {},
   "outputs": [
    {
     "data": {
      "text/plain": [
       "(0.06, 0.9400000000000001, 0.06, 0.9400000000000001)"
      ]
     },
     "execution_count": 24,
     "metadata": {},
     "output_type": "execute_result"
    },
    {
     "data": {
      "image/png": "[encoded data removed]",
      "text/plain": [
       "<Figure size 504x504 with 1 Axes>"
      ]
     },
     "metadata": {
      "needs_background": "light"
     },
     "output_type": "display_data"
    }
   ],
   "source": [
    "fig = plt.figure(figsize=(7,7))\n",
    "Ni = 3\n",
    "Nj = 4\n",
    "supplyY = np.linspace(0.1, 0.9, Ni)\n",
    "supplyX = 0.1*np.ones_like(supplyY)\n",
    "demandY = np.linspace(0.1, 0.9, Nj)\n",
    "demandX = 0.9 * np.ones_like(demandY)\n",
    "\n",
    "for i in instance.i:\n",
    "    for j in instance.j:\n",
    "        if value(instance.x[i,j]) > 0.1:\n",
    "            plt.plot([supplyX[Ni-i],demandX[Nj-j]],[supplyY[Ni-i],demandY[Nj-j]],lw=value(instance.x[i,j])/30)\n",
    "for c in range(0,Ni):\n",
    "    plt.scatter(supplyX[c],supplyY[c],s=250)\n",
    "    plt.text(supplyX[Ni-c-1]-0.05,supplyY[Ni-c-1],'S'+str(c+1),fontweight='bold')\n",
    "for c in range(0,Nj):\n",
    "    plt.scatter(demandX[c], demandY[c],s=250)\n",
    "    plt.text(demandX[Nj-c-1]+0.03, demandY[Nj-c-1],'D'+str(c+1),fontweight='bold')\n",
    "plt.axis('off')"
   ]
  },
  {
   "cell_type": "code",
   "execution_count": null,
   "id": "28a6ae39-0a40-4613-a540-6852abc2912c",
   "metadata": {},
   "outputs": [],
   "source": []
  }
 ],
 "metadata": {
  "kernelspec": {
   "display_name": "Python 3 (ipykernel)",
   "language": "python",
   "name": "python3"
  },
  "language_info": {
   "codemirror_mode": {
    "name": "ipython",
    "version": 3
   },
   "file_extension": ".py",
   "mimetype": "text/x-python",
   "name": "python",
   "nbconvert_exporter": "python",
   "pygments_lexer": "ipython3",
   "version": "3.9.7"
  }
 },
 "nbformat": 4,
 "nbformat_minor": 5
}
