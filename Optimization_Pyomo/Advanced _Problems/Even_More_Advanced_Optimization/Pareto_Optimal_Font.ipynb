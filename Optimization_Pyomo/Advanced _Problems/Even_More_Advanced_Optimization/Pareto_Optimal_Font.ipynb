{
 "cells": [
  {
   "cell_type": "code",
   "execution_count": 16,
   "id": "06f5d5a8",
   "metadata": {},
   "outputs": [],
   "source": [
    "#Pareto-optimal front(Multi-objective optimization)\n",
    "#Optimize one objective function, use the min/max value for that objective function and optimize the other OF\n",
    "from pyomo.environ import *\n",
    "import matplotlib.pyplot as plt\n",
    "import numpy as np"
   ]
  },
  {
   "cell_type": "code",
   "execution_count": 17,
   "id": "b3a29d45",
   "metadata": {},
   "outputs": [],
   "source": [
    "model = ConcreteModel()\n",
    "model.epsilon = Param(initialize=10000, mutable=True)\n",
    "model.x1 = Var(bounds=(1,2), within=NonNegativeReals)\n",
    "model.x2 = Var(bounds=(1,3), within=NonNegativeReals)\n",
    "model.OF1 = Var(bounds=(-10000,10000), within=NonNegativeReals)\n",
    "model.OF2 = Var(bounds=(-10000,10000), within=NonNegativeReals)\n",
    "\n",
    "model.eq1 = Constraint(expr = model.OF2 == -1.2*model.x1**2 + 5*model.x2)\n",
    "#Put a limit for OF2\n",
    "model.eq2 = Constraint(expr = model.OF2 <= model.epsilon)\n",
    "model.eq3 = Constraint(expr = model.OF1 == 2*model.x1 - 0.5*model.x2**2)\n",
    "\n",
    "model.obj1 = Objective(expr = model.OF1, sense = maximize)\n",
    "model.obj2 = Objective(expr = model.OF2, sense = maximize)\n",
    "opt = SolverFactory('ipopt')"
   ]
  },
  {
   "cell_type": "code",
   "execution_count": 18,
   "id": "46f50c57",
   "metadata": {},
   "outputs": [
    {
     "name": "stdout",
     "output_type": "stream",
     "text": [
      "X1 =  2.0\n",
      "X2 =  1.0\n",
      "obj1 =  3.5\n",
      "obj2 =  0.2\n"
     ]
    }
   ],
   "source": [
    "#deactivate OF2\n",
    "model.obj2.deactivate()\n",
    "results = opt.solve(model) #solves and updates instance\n",
    "print('X1 = ',round(value(model.x1), 2))\n",
    "print('X2 = ',round(value(model.x2), 2))\n",
    "print('obj1 = ',round(value(model.obj1), 2))\n",
    "print('obj2 = ',round(value(model.obj2), 2))\n",
    "#Max for OF1 is found\n",
    "maxOF1 = value(model.obj1)\n",
    "minOF2 = value(model.obj2)"
   ]
  },
  {
   "cell_type": "code",
   "execution_count": 19,
   "id": "50109984",
   "metadata": {},
   "outputs": [
    {
     "name": "stdout",
     "output_type": "stream",
     "text": [
      "X1 =  1.63\n",
      "X2 =  2.55\n",
      "obj1 =  0.0\n",
      "obj2 =  9.58\n"
     ]
    }
   ],
   "source": [
    "#Deactivate OF1\n",
    "model.obj1.deactivate()\n",
    "model.obj2.activate()\n",
    "results = opt.solve(model) #solves and updates instance\n",
    "print('X1 = ',round(value(model.x1), 2))\n",
    "print('X2 = ',round(value(model.x2), 2))\n",
    "print('obj1 = ',round(value(model.obj1), 2))\n",
    "print('obj2 = ',round(value(model.obj2), 2))\n",
    "#Max of OF2 is found\n",
    "minOF1 = value(model.obj1)\n",
    "maxOF2 = value(model.obj2)"
   ]
  },
  {
   "cell_type": "code",
   "execution_count": 20,
   "id": "163ed448",
   "metadata": {},
   "outputs": [
    {
     "name": "stdout",
     "output_type": "stream",
     "text": [
      "  x1    x2   OF1   OF2   Epsilon \n",
      " 2.00  1.00  3.50  0.20  0.20\n",
      " 1.95  1.05  3.35  0.67  0.67\n",
      " 1.90  1.10  3.20  1.14  1.14\n",
      " 1.86  1.15  3.05  1.61  1.61\n",
      " 1.81  1.20  2.90  2.08  2.08\n",
      " 1.77  1.26  2.75  2.54  2.54\n",
      " 1.74  1.33  2.59  3.01  3.01\n",
      " 1.70  1.39  2.44  3.48  3.48\n",
      " 1.67  1.46  2.28  3.95  3.95\n",
      " 1.65  1.54  2.12  4.42  4.42\n",
      " 1.63  1.61  1.95  4.89  4.89\n",
      " 1.61  1.69  1.78  5.36  5.36\n",
      " 1.59  1.77  1.61  5.83  5.83\n",
      " 1.58  1.86  1.43  6.30  6.30\n",
      " 1.56  1.94  1.25  6.77  6.77\n",
      " 1.55  2.03  1.05  7.23  7.23\n",
      " 1.54  2.11  0.86  7.70  7.70\n",
      " 1.53  2.20  0.65  8.17  8.17\n",
      " 1.53  2.29  0.44  8.64  8.64\n",
      " 1.54  2.39  0.22  9.11  9.11\n",
      " 1.63  2.55  0.00  9.58  9.58\n"
     ]
    }
   ],
   "source": [
    "Nsteps = 21\n",
    "X = []\n",
    "Y = []\n",
    "print('  x1  ',' x2 ',' OF1 ',' OF2 ',' Epsilon ')\n",
    "# sequentially increase the OF2's epsilon from min value to max value and solve for OF1\n",
    "for counter in range(1,Nsteps+1):\n",
    "    model.epsilon = minOF2+(maxOF2-minOF2)*(counter-1)/(Nsteps-1)\n",
    "    results = opt.solve(model)# solves and updates instance\n",
    "    print(\"%5.2f\"% value(model.x1), \"%5.2f\"% value(model.x2), \"%5.2f\"% value(model.obj1),\"%5.2f\"% value(model.obj2), \"%5.2f\"% value(model.epsilon))\n",
    "    X.append(value(model.obj1))\n",
    "    Y.append(value(model.obj2))"
   ]
  },
  {
   "cell_type": "code",
   "execution_count": 21,
   "id": "1a0f8fe2",
   "metadata": {},
   "outputs": [
    {
     "data": {
      "image/png": "[encoded data removed]",
      "text/plain": [
       "<Figure size 576x432 with 1 Axes>"
      ]
     },
     "metadata": {
      "needs_background": "light"
     },
     "output_type": "display_data"
    }
   ],
   "source": [
    "fig = plt.figure(figsize=(8,6))\n",
    "plt.scatter(X,Y)\n",
    "plt.xlabel('OF1', fontweight='bold')\n",
    "plt.xlabel('OF2', fontweight='bold')\n",
    "plt.grid()\n",
    "plt.show()"
   ]
  },
  {
   "cell_type": "code",
   "execution_count": null,
   "id": "f7b9f985",
   "metadata": {},
   "outputs": [],
   "source": []
  }
 ],
 "metadata": {
  "kernelspec": {
   "display_name": "Python 3 (ipykernel)",
   "language": "python",
   "name": "python3"
  },
  "language_info": {
   "codemirror_mode": {
    "name": "ipython",
    "version": 3
   },
   "file_extension": ".py",
   "mimetype": "text/x-python",
   "name": "python",
   "nbconvert_exporter": "python",
   "pygments_lexer": "ipython3",
   "version": "3.9.7"
  }
 },
 "nbformat": 4,
 "nbformat_minor": 5
}
