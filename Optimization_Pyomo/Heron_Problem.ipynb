{
 "cells": [
  {
   "cell_type": "code",
   "execution_count": 4,
   "id": "8da526f5-1b83-48c3-a247-081a9ffc88ae",
   "metadata": {},
   "outputs": [],
   "source": [
    "#Heron Problem\n",
    "#Min d1+d2\n",
    "#such that:\n",
    "#          d1^2 = h1^2 + x^2\n",
    "#          d2^2 = h2^2 + (L - x)^2\n",
    "#          0<= d1,d2 <= L"
   ]
  },
  {
   "cell_type": "code",
   "execution_count": 7,
   "id": "45095b79-f358-4c5e-a438-50156f6139fa",
   "metadata": {},
   "outputs": [],
   "source": [
    "from pyomo.environ import *\n",
    "import numpy as np"
   ]
  },
  {
   "cell_type": "code",
   "execution_count": 8,
   "id": "bf90f788-bdb5-4f92-a7b8-cf1862973181",
   "metadata": {},
   "outputs": [],
   "source": [
    "model = ConcreteModel()\n",
    "model.L = Param(initialize=10)\n",
    "model.h1 = Param(initialize=2)\n",
    "model.h2 = Param(initialize=4)\n",
    "model.d1 = Var(bounds=(0,model.L), initialize=0)\n",
    "model.d2 = Var(bounds=(0,model.L), initialize=0)\n",
    "model.x = Var(bounds=(0,model.L), initialize=0)\n",
    "model.C1 = Constraint(expr=model.d1**2==model.h1**2+model.x**2)\n",
    "model.C2 = Constraint(expr=model.d2**2==model.h2**2+(model.L-model.x)**2)\n",
    "model.f1 = Objective(expr=model.d1+model.d2,sense=minimize)"
   ]
  },
  {
   "cell_type": "code",
   "execution_count": 9,
   "id": "22dd7d39-39a7-4166-aa86-b17934db9877",
   "metadata": {},
   "outputs": [],
   "source": [
    "solver = SolverFactory('ipopt')\n",
    "results = solver.solve(model);"
   ]
  },
  {
   "cell_type": "code",
   "execution_count": 10,
   "id": "3d157262-fecb-4010-9501-720ceda65e00",
   "metadata": {},
   "outputs": [
    {
     "name": "stdout",
     "output_type": "stream",
     "text": [
      "d1=  3.89\n",
      "d2=  7.77\n",
      "x=  3.33\n",
      "f1=  11.66\n"
     ]
    }
   ],
   "source": [
    "print('d1= ', round(value(model.d1), 2))\n",
    "print('d2= ', round(value(model.d2), 2))\n",
    "print('x= ', round(value(model.x), 2))\n",
    "print('f1= ', round(value(model.f1), 2))"
   ]
  },
  {
   "cell_type": "code",
   "execution_count": null,
   "id": "17491d04-21a1-4b21-8300-560bbe23bf48",
   "metadata": {},
   "outputs": [],
   "source": []
  }
 ],
 "metadata": {
  "kernelspec": {
   "display_name": "Python 3 (ipykernel)",
   "language": "python",
   "name": "python3"
  },
  "language_info": {
   "codemirror_mode": {
    "name": "ipython",
    "version": 3
   },
   "file_extension": ".py",
   "mimetype": "text/x-python",
   "name": "python",
   "nbconvert_exporter": "python",
   "pygments_lexer": "ipython3",
   "version": "3.9.7"
  }
 },
 "nbformat": 4,
 "nbformat_minor": 5
}
