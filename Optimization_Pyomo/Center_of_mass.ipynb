{
 "cells": [
  {
   "cell_type": "code",
   "execution_count": 6,
   "id": "c3341aec",
   "metadata": {},
   "outputs": [],
   "source": [
    "from pyomo.environ import *\n",
    "import matplotlib.pyplot as plt\n",
    "import numpy as np\n",
    "import random"
   ]
  },
  {
   "cell_type": "code",
   "execution_count": 14,
   "id": "1250929d",
   "metadata": {},
   "outputs": [],
   "source": [
    "model = AbstractModel()\n",
    "model.N = Param(mutable=True, default=15)\n",
    "model.i = RangeSet(1, model.N)\n",
    "\n",
    "def initval(model, i):\n",
    "    return random.uniform(0, 1)\n",
    "\n",
    "def initvalM(model, i):\n",
    "    return 0.2*random.uniform(0, 1)\n",
    "\n",
    "#initialize location and mass randomly\n",
    "model.Xloc = Param(model.i, within=NonNegativeReals, initialize=initval, mutable=True)\n",
    "model.Yloc = Param(model.i, within=NonNegativeReals, initialize=initval, mutable=True)\n",
    "model.Mass = Param(model.i, within=NonNegativeReals, initialize=initvalM, mutable=True)\n",
    "\n",
    "model.x = Var(bounds=(0, 1), within=NonNegativeReals, initialize=0.1)\n",
    "model.y = Var(bounds=(0, 1), within=NonNegativeReals, initialize=0.3)\n",
    "\n",
    "def rule_C2(model):\n",
    "    return model.x == sum(model.Xloc[i]*model.Mass[i] for i in model.i)/sum(model.Mass[i] for i in model.i)\n",
    "model.C2 = Constraint(rule=rule_C2)\n",
    "\n",
    "def rule_C3(model):\n",
    "    return model.y == sum(model.Yloc[i]*model.Mass[i] for i in model.i)/sum(model.Mass[i] for i in model.i)\n",
    "model.C3 = Constraint(rule=rule_C3)\n",
    "\n",
    "#no objective function hence model.x or model.y can be used \n",
    "#this will make sure that the solver only optimizes over constraints\n",
    "model.obj1 = Objective(expr = model.x, sense=maximize)"
   ]
  },
  {
   "cell_type": "code",
   "execution_count": 17,
   "id": "63699e58",
   "metadata": {},
   "outputs": [
    {
     "name": "stdout",
     "output_type": "stream",
     "text": [
      "WARNING: Constructing RangeSet 'i' from non-constant data (e.g., Var or\n",
      "    mutable Param).  The linkage between this RangeSet and the original source\n",
      "    data will be broken, so updating the data value in the future will not be\n",
      "    reflected in this RangeSet.  To suppress this warning, explicitly convert\n",
      "    the source data to a constant type (e.g., float, int, or immutable Param)\n"
     ]
    }
   ],
   "source": [
    "opt = SolverFactory('glpk')\n",
    "model.N = 20\n",
    "instance = model.create_instance()"
   ]
  },
  {
   "cell_type": "code",
   "execution_count": 18,
   "id": "9133abfd",
   "metadata": {},
   "outputs": [
    {
     "data": {
      "image/png": "[encoded data removed]",
      "text/plain": [
       "<Figure size 432x432 with 1 Axes>"
      ]
     },
     "metadata": {
      "needs_background": "light"
     },
     "output_type": "display_data"
    }
   ],
   "source": [
    "fig = plt.figure(figsize=(6, 6))\n",
    "for i in instance.i:\n",
    "    plt.scatter(value(instance.Xloc[i]), value(instance.Yloc[i]),s=2000*value(instance.Mass[i]))\n",
    "    \n",
    "results = opt.solve(instance) #solves and updates instance\n",
    "plt.scatter(value(instance.x), value(instance.y), color='black', s=30)\n",
    "theta = np.linspace(0, 2*np.pi, 100)\n",
    "#Center of mass\n",
    "Xc = value(instance.x) + 0.05*np.cos(theta)\n",
    "Yc = value(instance.y) + 0.05*np.sin(theta)\n",
    "\n",
    "plt.plot(Xc, Yc, '--',lw=3)\n",
    "#plt.axis('off')\n",
    "plt.xlabel('X')\n",
    "plt.ylabel('Y')\n",
    "plt.xlim(-0.1, 1.2)\n",
    "plt.ylim(-0.1, 1.2)\n",
    "plt.show()"
   ]
  },
  {
   "cell_type": "code",
   "execution_count": null,
   "id": "a5fcbd02",
   "metadata": {},
   "outputs": [],
   "source": []
  }
 ],
 "metadata": {
  "kernelspec": {
   "display_name": "Python 3 (ipykernel)",
   "language": "python",
   "name": "python3"
  },
  "language_info": {
   "codemirror_mode": {
    "name": "ipython",
    "version": 3
   },
   "file_extension": ".py",
   "mimetype": "text/x-python",
   "name": "python",
   "nbconvert_exporter": "python",
   "pygments_lexer": "ipython3",
   "version": "3.9.7"
  }
 },
 "nbformat": 4,
 "nbformat_minor": 5
}
